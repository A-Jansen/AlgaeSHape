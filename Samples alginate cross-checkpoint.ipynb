{
 "cells": [
  {
   "cell_type": "markdown",
   "metadata": {},
   "source": [
    "Type Markdown and LaTeX: $\\alpha^2$"
   ]
  },
  {
   "cell_type": "markdown",
   "metadata": {},
   "source": [
    "Conducted by: Anniek Jansen\n",
    "\n",
    "**Data files**\n",
    "\n",
    "This notebook uses the data from \"thick_alginate.csv\", \"thin_alginate.csv\" and \"weight_alginate.csv\". They all have to be in the same folder as this notebook. \n",
    "\n",
    "**Study setup** \n",
    "\n",
    "The data is gathered by measuring samples from around 10x10 cm before applying alginate. The samples are also stretched to their max both with the grain and on a 90 degree angle.\n",
    "\n",
    "Next a mixture of 3wv% and 5wv% sodium alginate are applied in a plus sign. The samples have been submerged for 1 minute in 10% CaCl2 solution and rinsed in cold water before drying outside overnight and 5 days inside.\n",
    "\n",
    "After this procedure the samples have been measuerd again and the samples with the 3 wv% alginate plus sign have been measured on kitchen scale which does not show decimals. \n",
    "\n",
    "**Columnames**\n",
    "* Fabric-type = *The type of fabric* (object)\n",
    "* Fabric = *A short description often of the colour of the fabric, to be used as identifier in this notebook and with the photos* (object)\n",
    "* Weight (g) = *The weight of a sample with the thin algiante in grams* (float)\n",
    "* Weight = *How heavy the fabric feels* (object)\n",
    "* mean shrinkage= *The mean shrinkage of one sample, both thin and thick and straight of grain and perpendicular* (float)\n",
    "\n",
    "\n",
    "**Other columnames **\n",
    "* Description = *Extra information about the fabric* (object)\n",
    "* Stretch? = *Whether the fabric has stretch* (object)\n",
    "* Length rvd = *Measured length straight of grain in centimeters* (float)\n",
    "* Stretched length rvd = *Measured length when strechted maximal along the straight grain in centimeters* (float)\n",
    "* Length 90 = *Measured length perpendicular to the straight grain in centimeters* (float)\n",
    "* Stretched length 90 = *Measured length when stretched maximal perpendicular to the straight grain in centimeters* (float)\n",
    "* Length_after rvd = *Measured length straight of grain after applying alginate in centimeters* (float)\n",
    "* Length_after 90 = *Measured length perpendicular to the straight grain after applying alginate in centimeters* (float)\n",
    "* % shrinkage (thin/thick) rvd/90 = *The lenghth_after/ length* (float)\n",
    "* % stretch (thin/thick) rvd/90= *The stretched lenght/ length* (float)"
   ]
  },
  {
   "cell_type": "code",
   "execution_count": 1,
   "metadata": {
    "collapsed": true
   },
   "outputs": [],
   "source": [
    "import numpy as np\n",
    "import pandas as pd\n",
    "import datetime\n",
    "\n",
    "# next command ensures that plots appear inside the notebook\n",
    "%matplotlib inline\n",
    "import matplotlib.pyplot as plt\n",
    "import seaborn as sns\n",
    "sns.set()  # set Seaborn defaults\n",
    "plt.rcParams['figure.figsize'] = 12, 5  # default hor./vert. size of plots, in inches\n",
    "plt.rcParams['lines.markeredgewidth'] = 1  # to fix issue with seaborn box plots; needed after import seaborn\n",
    "\n",
    "import warnings\n",
    "warnings.filterwarnings('ignore')"
   ]
  },
  {
   "cell_type": "code",
   "execution_count": 2,
   "metadata": {
    "collapsed": true
   },
   "outputs": [],
   "source": [
    "from sklearn.linear_model import LinearRegression  # for linear regression\n",
    "from sklearn.cluster import KMeans  # for clustering\n",
    "from sklearn.tree import DecisionTreeClassifier  # for decision tree mining\n",
    "from sklearn.metrics import accuracy_score, confusion_matrix\n",
    "from sklearn.metrics import r2_score"
   ]
  },
  {
   "cell_type": "code",
   "execution_count": 3,
   "metadata": {
    "collapsed": true
   },
   "outputs": [],
   "source": [
    "import statsmodels.api as sm"
   ]
  },
  {
   "cell_type": "markdown",
   "metadata": {},
   "source": [
    "## Importing data and creating the dataframes"
   ]
  },
  {
   "cell_type": "code",
   "execution_count": 4,
   "metadata": {},
   "outputs": [
    {
     "data": {
      "text/html": [
       "<div>\n",
       "<style>\n",
       "    .dataframe thead tr:only-child th {\n",
       "        text-align: right;\n",
       "    }\n",
       "\n",
       "    .dataframe thead th {\n",
       "        text-align: left;\n",
       "    }\n",
       "\n",
       "    .dataframe tbody tr th {\n",
       "        vertical-align: top;\n",
       "    }\n",
       "</style>\n",
       "<table border=\"1\" class=\"dataframe\">\n",
       "  <thead>\n",
       "    <tr style=\"text-align: right;\">\n",
       "      <th></th>\n",
       "      <th>Fabric-type</th>\n",
       "      <th>Fabric</th>\n",
       "      <th>Description</th>\n",
       "      <th>Stretch?</th>\n",
       "      <th>Length rvd</th>\n",
       "      <th>Stretched length rvd</th>\n",
       "      <th>Length 90</th>\n",
       "      <th>Stretched length 90</th>\n",
       "      <th>Length_after rvd</th>\n",
       "      <th>Length_after 90</th>\n",
       "    </tr>\n",
       "  </thead>\n",
       "  <tbody>\n",
       "    <tr>\n",
       "      <th>0</th>\n",
       "      <td>Knitted</td>\n",
       "      <td>Purple</td>\n",
       "      <td>Thick tricot</td>\n",
       "      <td>4 way</td>\n",
       "      <td>10.0</td>\n",
       "      <td>16.0</td>\n",
       "      <td>10.0</td>\n",
       "      <td>15.0</td>\n",
       "      <td>7.5</td>\n",
       "      <td>8.0</td>\n",
       "    </tr>\n",
       "    <tr>\n",
       "      <th>1</th>\n",
       "      <td>Knitted</td>\n",
       "      <td>Brown/beige</td>\n",
       "      <td>Thick/ double tricot</td>\n",
       "      <td>4 way</td>\n",
       "      <td>10.0</td>\n",
       "      <td>13.5</td>\n",
       "      <td>9.0</td>\n",
       "      <td>13.0</td>\n",
       "      <td>8.5</td>\n",
       "      <td>7.7</td>\n",
       "    </tr>\n",
       "  </tbody>\n",
       "</table>\n",
       "</div>"
      ],
      "text/plain": [
       "  Fabric-type       Fabric           Description Stretch?  Length rvd  \\\n",
       "0     Knitted       Purple          Thick tricot    4 way        10.0   \n",
       "1     Knitted  Brown/beige  Thick/ double tricot    4 way        10.0   \n",
       "\n",
       "   Stretched length rvd  Length 90  Stretched length 90  Length_after rvd  \\\n",
       "0                  16.0       10.0                 15.0               7.5   \n",
       "1                  13.5        9.0                 13.0               8.5   \n",
       "\n",
       "   Length_after 90  \n",
       "0              8.0  \n",
       "1              7.7  "
      ]
     },
     "execution_count": 4,
     "metadata": {},
     "output_type": "execute_result"
    }
   ],
   "source": [
    "file_thickAlginate= 'thick_alginate.csv'\n",
    "file_thinAlginate= 'thin_alginate.csv'\n",
    "file_weight= 'weight_alginate.csv'\n",
    "df_thick= pd.read_csv(file_thickAlginate)\n",
    "df_thin= pd.read_csv(file_thinAlginate)\n",
    "df_weight = pd.read_csv(file_weight)\n",
    "\n",
    "df_weight.dropna()\n",
    "df_thick.dropna()\n",
    "df_thick.head(2)\n",
    "\n"
   ]
  },
  {
   "cell_type": "code",
   "execution_count": 5,
   "metadata": {
    "scrolled": true
   },
   "outputs": [
    {
     "data": {
      "text/html": [
       "<div>\n",
       "<style>\n",
       "    .dataframe thead tr:only-child th {\n",
       "        text-align: right;\n",
       "    }\n",
       "\n",
       "    .dataframe thead th {\n",
       "        text-align: left;\n",
       "    }\n",
       "\n",
       "    .dataframe tbody tr th {\n",
       "        vertical-align: top;\n",
       "    }\n",
       "</style>\n",
       "<table border=\"1\" class=\"dataframe\">\n",
       "  <thead>\n",
       "    <tr style=\"text-align: right;\">\n",
       "      <th></th>\n",
       "      <th>Fabric-type</th>\n",
       "      <th>Fabric</th>\n",
       "      <th>Description</th>\n",
       "      <th>Stretch?</th>\n",
       "      <th>Length rvd</th>\n",
       "      <th>Stretched length rvd</th>\n",
       "      <th>Length 90</th>\n",
       "      <th>Stretched length 90</th>\n",
       "      <th>Length_after rvd</th>\n",
       "      <th>Length_after 90</th>\n",
       "    </tr>\n",
       "  </thead>\n",
       "  <tbody>\n",
       "    <tr>\n",
       "      <th>0</th>\n",
       "      <td>Knitted</td>\n",
       "      <td>Purple</td>\n",
       "      <td>Thick tricot</td>\n",
       "      <td>4 way</td>\n",
       "      <td>10.0</td>\n",
       "      <td>17.0</td>\n",
       "      <td>10.0</td>\n",
       "      <td>16.0</td>\n",
       "      <td>8.1</td>\n",
       "      <td>7.9</td>\n",
       "    </tr>\n",
       "    <tr>\n",
       "      <th>1</th>\n",
       "      <td>Knitted</td>\n",
       "      <td>Brown/beige</td>\n",
       "      <td>Thick/ double tricot</td>\n",
       "      <td>4 way</td>\n",
       "      <td>10.0</td>\n",
       "      <td>13.0</td>\n",
       "      <td>10.0</td>\n",
       "      <td>14.0</td>\n",
       "      <td>8.9</td>\n",
       "      <td>9.2</td>\n",
       "    </tr>\n",
       "  </tbody>\n",
       "</table>\n",
       "</div>"
      ],
      "text/plain": [
       "  Fabric-type       Fabric           Description Stretch?  Length rvd  \\\n",
       "0     Knitted       Purple          Thick tricot    4 way        10.0   \n",
       "1     Knitted  Brown/beige  Thick/ double tricot    4 way        10.0   \n",
       "\n",
       "   Stretched length rvd  Length 90  Stretched length 90  Length_after rvd  \\\n",
       "0                  17.0       10.0                 16.0               8.1   \n",
       "1                  13.0       10.0                 14.0               8.9   \n",
       "\n",
       "   Length_after 90  \n",
       "0              7.9  \n",
       "1              9.2  "
      ]
     },
     "execution_count": 5,
     "metadata": {},
     "output_type": "execute_result"
    }
   ],
   "source": [
    "df_thin.dropna()\n",
    "df_thin.head(2)"
   ]
  },
  {
   "cell_type": "code",
   "execution_count": 6,
   "metadata": {},
   "outputs": [
    {
     "data": {
      "text/html": [
       "<div>\n",
       "<style>\n",
       "    .dataframe thead tr:only-child th {\n",
       "        text-align: right;\n",
       "    }\n",
       "\n",
       "    .dataframe thead th {\n",
       "        text-align: left;\n",
       "    }\n",
       "\n",
       "    .dataframe tbody tr th {\n",
       "        vertical-align: top;\n",
       "    }\n",
       "</style>\n",
       "<table border=\"1\" class=\"dataframe\">\n",
       "  <thead>\n",
       "    <tr style=\"text-align: right;\">\n",
       "      <th></th>\n",
       "      <th>Fabric</th>\n",
       "      <th>Weight (g)</th>\n",
       "      <th>Weight</th>\n",
       "    </tr>\n",
       "  </thead>\n",
       "  <tbody>\n",
       "    <tr>\n",
       "      <th>0</th>\n",
       "      <td>Purple</td>\n",
       "      <td>2</td>\n",
       "      <td>heavy</td>\n",
       "    </tr>\n",
       "    <tr>\n",
       "      <th>1</th>\n",
       "      <td>Brown/beige</td>\n",
       "      <td>2</td>\n",
       "      <td>medium</td>\n",
       "    </tr>\n",
       "  </tbody>\n",
       "</table>\n",
       "</div>"
      ],
      "text/plain": [
       "        Fabric  Weight (g)  Weight\n",
       "0       Purple           2   heavy\n",
       "1  Brown/beige           2  medium"
      ]
     },
     "execution_count": 6,
     "metadata": {},
     "output_type": "execute_result"
    }
   ],
   "source": [
    "df_weight.head(2)"
   ]
  },
  {
   "cell_type": "markdown",
   "metadata": {},
   "source": [
    "Calculating the stretch and shrink perecentage for the samples with thick alginate\n",
    "\n",
    "DC % = 100 ( B – A) / A\n",
    "\n",
    "\n",
    "DC = Dimensional Change\n",
    "\n",
    "A = Original Dimension\n",
    "\n",
    "B = Dimension after Laundering\n",
    "\n",
    "\n",
    "Shrinkage is denoted as ‘-’ which is decrease in dimensions\n",
    "\n",
    "\n",
    "Elongation is denoted as ‘+’ which is increase in dimensions.\n",
    "\n",
    "HMS. (2014, January 28). DIMENSIONAL STABILITY TO WASHING AND DRYING TEST FOR FABRICS AND GARMENTS «. Retrieved 3 June 2020, from http://garmentstech.com/dimensional-stability-to-washing-and-drying-test-for-fabrics-and-garments/"
   ]
  },
  {
   "cell_type": "code",
   "execution_count": 7,
   "metadata": {},
   "outputs": [
    {
     "data": {
      "text/html": [
       "<div>\n",
       "<style>\n",
       "    .dataframe thead tr:only-child th {\n",
       "        text-align: right;\n",
       "    }\n",
       "\n",
       "    .dataframe thead th {\n",
       "        text-align: left;\n",
       "    }\n",
       "\n",
       "    .dataframe tbody tr th {\n",
       "        vertical-align: top;\n",
       "    }\n",
       "</style>\n",
       "<table border=\"1\" class=\"dataframe\">\n",
       "  <thead>\n",
       "    <tr style=\"text-align: right;\">\n",
       "      <th></th>\n",
       "      <th>Fabric-type</th>\n",
       "      <th>Fabric</th>\n",
       "      <th>Description</th>\n",
       "      <th>Stretch?</th>\n",
       "      <th>Length rvd</th>\n",
       "      <th>Stretched length rvd</th>\n",
       "      <th>Length 90</th>\n",
       "      <th>Stretched length 90</th>\n",
       "      <th>Length_after rvd</th>\n",
       "      <th>Length_after 90</th>\n",
       "      <th>% Stretch rvd</th>\n",
       "      <th>% Stretch 90</th>\n",
       "      <th>% Shrinkage rvd</th>\n",
       "      <th>% Shrinkage 90</th>\n",
       "    </tr>\n",
       "  </thead>\n",
       "  <tbody>\n",
       "    <tr>\n",
       "      <th>0</th>\n",
       "      <td>Knitted</td>\n",
       "      <td>Purple</td>\n",
       "      <td>Thick tricot</td>\n",
       "      <td>4 way</td>\n",
       "      <td>10.0</td>\n",
       "      <td>16.0</td>\n",
       "      <td>10.0</td>\n",
       "      <td>15.0</td>\n",
       "      <td>7.5</td>\n",
       "      <td>8.0</td>\n",
       "      <td>60.0</td>\n",
       "      <td>50.0</td>\n",
       "      <td>-25.0</td>\n",
       "      <td>-20.0</td>\n",
       "    </tr>\n",
       "    <tr>\n",
       "      <th>1</th>\n",
       "      <td>Knitted</td>\n",
       "      <td>Brown/beige</td>\n",
       "      <td>Thick/ double tricot</td>\n",
       "      <td>4 way</td>\n",
       "      <td>10.0</td>\n",
       "      <td>13.5</td>\n",
       "      <td>9.0</td>\n",
       "      <td>13.0</td>\n",
       "      <td>8.5</td>\n",
       "      <td>7.7</td>\n",
       "      <td>35.0</td>\n",
       "      <td>44.4</td>\n",
       "      <td>-15.0</td>\n",
       "      <td>-14.4</td>\n",
       "    </tr>\n",
       "  </tbody>\n",
       "</table>\n",
       "</div>"
      ],
      "text/plain": [
       "  Fabric-type       Fabric           Description Stretch?  Length rvd  \\\n",
       "0     Knitted       Purple          Thick tricot    4 way        10.0   \n",
       "1     Knitted  Brown/beige  Thick/ double tricot    4 way        10.0   \n",
       "\n",
       "   Stretched length rvd  Length 90  Stretched length 90  Length_after rvd  \\\n",
       "0                  16.0       10.0                 15.0               7.5   \n",
       "1                  13.5        9.0                 13.0               8.5   \n",
       "\n",
       "   Length_after 90  % Stretch rvd  % Stretch 90  % Shrinkage rvd  \\\n",
       "0              8.0           60.0          50.0            -25.0   \n",
       "1              7.7           35.0          44.4            -15.0   \n",
       "\n",
       "   % Shrinkage 90  \n",
       "0           -20.0  \n",
       "1           -14.4  "
      ]
     },
     "execution_count": 7,
     "metadata": {},
     "output_type": "execute_result"
    }
   ],
   "source": [
    "df_thick['% Stretch rvd'] = round(((df_thick['Stretched length rvd']-df_thick['Length rvd'])/df_thick['Length rvd']*100),1)\n",
    "df_thick['% Stretch 90'] = round (((df_thick['Stretched length 90']-df_thick['Length 90'])/df_thick['Length 90']*100),1)\n",
    "df_thick['% Shrinkage rvd'] = round (((df_thick['Length_after rvd']-df_thick['Length rvd'])/df_thick['Length rvd']*100),1)\n",
    "df_thick['% Shrinkage 90'] = round (((df_thick['Length_after 90']-df_thick['Length 90'])/df_thick['Length 90']*100),1)\n",
    "df_thick.head(2)"
   ]
  },
  {
   "cell_type": "markdown",
   "metadata": {},
   "source": [
    "Copying the columns with expection of the lengths"
   ]
  },
  {
   "cell_type": "code",
   "execution_count": 8,
   "metadata": {},
   "outputs": [
    {
     "data": {
      "text/html": [
       "<div>\n",
       "<style>\n",
       "    .dataframe thead tr:only-child th {\n",
       "        text-align: right;\n",
       "    }\n",
       "\n",
       "    .dataframe thead th {\n",
       "        text-align: left;\n",
       "    }\n",
       "\n",
       "    .dataframe tbody tr th {\n",
       "        vertical-align: top;\n",
       "    }\n",
       "</style>\n",
       "<table border=\"1\" class=\"dataframe\">\n",
       "  <thead>\n",
       "    <tr style=\"text-align: right;\">\n",
       "      <th></th>\n",
       "      <th>Fabric-type</th>\n",
       "      <th>Fabric</th>\n",
       "      <th>Description</th>\n",
       "      <th>Stretch?</th>\n",
       "      <th>% Stretch rvd</th>\n",
       "      <th>% Stretch 90</th>\n",
       "      <th>% Shrinkage rvd</th>\n",
       "      <th>% Shrinkage 90</th>\n",
       "    </tr>\n",
       "  </thead>\n",
       "  <tbody>\n",
       "    <tr>\n",
       "      <th>0</th>\n",
       "      <td>Knitted</td>\n",
       "      <td>Purple</td>\n",
       "      <td>Thick tricot</td>\n",
       "      <td>4 way</td>\n",
       "      <td>60.0</td>\n",
       "      <td>50.0</td>\n",
       "      <td>-25.0</td>\n",
       "      <td>-20.0</td>\n",
       "    </tr>\n",
       "    <tr>\n",
       "      <th>1</th>\n",
       "      <td>Knitted</td>\n",
       "      <td>Brown/beige</td>\n",
       "      <td>Thick/ double tricot</td>\n",
       "      <td>4 way</td>\n",
       "      <td>35.0</td>\n",
       "      <td>44.4</td>\n",
       "      <td>-15.0</td>\n",
       "      <td>-14.4</td>\n",
       "    </tr>\n",
       "    <tr>\n",
       "      <th>2</th>\n",
       "      <td>Knitted</td>\n",
       "      <td>Dark blue &amp; brown</td>\n",
       "      <td>Thick/ double tricot</td>\n",
       "      <td>2 way</td>\n",
       "      <td>0.0</td>\n",
       "      <td>100.0</td>\n",
       "      <td>-21.0</td>\n",
       "      <td>-28.6</td>\n",
       "    </tr>\n",
       "    <tr>\n",
       "      <th>3</th>\n",
       "      <td>Knitted</td>\n",
       "      <td>Dark blue</td>\n",
       "      <td>Jogging</td>\n",
       "      <td>4 way</td>\n",
       "      <td>18.0</td>\n",
       "      <td>23.8</td>\n",
       "      <td>-15.0</td>\n",
       "      <td>-24.8</td>\n",
       "    </tr>\n",
       "    <tr>\n",
       "      <th>4</th>\n",
       "      <td>Knitted</td>\n",
       "      <td>Dark blue &amp; black</td>\n",
       "      <td>Thin tricot</td>\n",
       "      <td>4 way</td>\n",
       "      <td>70.0</td>\n",
       "      <td>95.0</td>\n",
       "      <td>-40.0</td>\n",
       "      <td>-40.0</td>\n",
       "    </tr>\n",
       "  </tbody>\n",
       "</table>\n",
       "</div>"
      ],
      "text/plain": [
       "  Fabric-type             Fabric           Description Stretch?  \\\n",
       "0     Knitted             Purple          Thick tricot    4 way   \n",
       "1     Knitted        Brown/beige  Thick/ double tricot    4 way   \n",
       "2     Knitted  Dark blue & brown  Thick/ double tricot    2 way   \n",
       "3     Knitted          Dark blue               Jogging    4 way   \n",
       "4     Knitted  Dark blue & black           Thin tricot    4 way   \n",
       "\n",
       "   % Stretch rvd  % Stretch 90  % Shrinkage rvd  % Shrinkage 90  \n",
       "0           60.0          50.0            -25.0           -20.0  \n",
       "1           35.0          44.4            -15.0           -14.4  \n",
       "2            0.0         100.0            -21.0           -28.6  \n",
       "3           18.0          23.8            -15.0           -24.8  \n",
       "4           70.0          95.0            -40.0           -40.0  "
      ]
     },
     "execution_count": 8,
     "metadata": {},
     "output_type": "execute_result"
    }
   ],
   "source": [
    "df_thick_perc= pd.DataFrame()\n",
    "df_thick_perc= df_thick[['Fabric-type', 'Fabric', 'Description', 'Stretch?', '% Stretch rvd', '% Stretch 90', '% Shrinkage rvd', '% Shrinkage 90']].copy()\n",
    "df_thick_perc.head()"
   ]
  },
  {
   "cell_type": "markdown",
   "metadata": {},
   "source": [
    "Calculating the stretch and shrink perecentage for the samples with thin alginate\n",
    "\n",
    "DC % = 100 ( B – A) / A\n",
    "\n",
    "DC = Dimensional Change\n",
    "\n",
    "A = Original Dimension\n",
    "\n",
    "B = Dimension after Laundering\n",
    "\n",
    "Shrinkage is denoted as ‘-’ which is decrease in dimensions\n",
    "\n",
    "Elongation is denoted as ‘+’ which is increase in dimensions.\n",
    "\n"
   ]
  },
  {
   "cell_type": "code",
   "execution_count": 9,
   "metadata": {},
   "outputs": [
    {
     "data": {
      "text/html": [
       "<div>\n",
       "<style>\n",
       "    .dataframe thead tr:only-child th {\n",
       "        text-align: right;\n",
       "    }\n",
       "\n",
       "    .dataframe thead th {\n",
       "        text-align: left;\n",
       "    }\n",
       "\n",
       "    .dataframe tbody tr th {\n",
       "        vertical-align: top;\n",
       "    }\n",
       "</style>\n",
       "<table border=\"1\" class=\"dataframe\">\n",
       "  <thead>\n",
       "    <tr style=\"text-align: right;\">\n",
       "      <th></th>\n",
       "      <th>Fabric-type</th>\n",
       "      <th>Fabric</th>\n",
       "      <th>Description</th>\n",
       "      <th>Stretch?</th>\n",
       "      <th>Length rvd</th>\n",
       "      <th>Stretched length rvd</th>\n",
       "      <th>Length 90</th>\n",
       "      <th>Stretched length 90</th>\n",
       "      <th>Length_after rvd</th>\n",
       "      <th>Length_after 90</th>\n",
       "      <th>% Stretch rvd</th>\n",
       "      <th>% Stretch 90</th>\n",
       "      <th>% Shrinkage rvd</th>\n",
       "      <th>% Shrinkage 90</th>\n",
       "    </tr>\n",
       "  </thead>\n",
       "  <tbody>\n",
       "    <tr>\n",
       "      <th>0</th>\n",
       "      <td>Knitted</td>\n",
       "      <td>Purple</td>\n",
       "      <td>Thick tricot</td>\n",
       "      <td>4 way</td>\n",
       "      <td>10.0</td>\n",
       "      <td>17.0</td>\n",
       "      <td>10.0</td>\n",
       "      <td>16.0</td>\n",
       "      <td>8.1</td>\n",
       "      <td>7.9</td>\n",
       "      <td>70.0</td>\n",
       "      <td>60.0</td>\n",
       "      <td>-19.0</td>\n",
       "      <td>-21.0</td>\n",
       "    </tr>\n",
       "    <tr>\n",
       "      <th>1</th>\n",
       "      <td>Knitted</td>\n",
       "      <td>Brown/beige</td>\n",
       "      <td>Thick/ double tricot</td>\n",
       "      <td>4 way</td>\n",
       "      <td>10.0</td>\n",
       "      <td>13.0</td>\n",
       "      <td>10.0</td>\n",
       "      <td>14.0</td>\n",
       "      <td>8.9</td>\n",
       "      <td>9.2</td>\n",
       "      <td>30.0</td>\n",
       "      <td>40.0</td>\n",
       "      <td>-11.0</td>\n",
       "      <td>-8.0</td>\n",
       "    </tr>\n",
       "  </tbody>\n",
       "</table>\n",
       "</div>"
      ],
      "text/plain": [
       "  Fabric-type       Fabric           Description Stretch?  Length rvd  \\\n",
       "0     Knitted       Purple          Thick tricot    4 way        10.0   \n",
       "1     Knitted  Brown/beige  Thick/ double tricot    4 way        10.0   \n",
       "\n",
       "   Stretched length rvd  Length 90  Stretched length 90  Length_after rvd  \\\n",
       "0                  17.0       10.0                 16.0               8.1   \n",
       "1                  13.0       10.0                 14.0               8.9   \n",
       "\n",
       "   Length_after 90  % Stretch rvd  % Stretch 90  % Shrinkage rvd  \\\n",
       "0              7.9           70.0          60.0            -19.0   \n",
       "1              9.2           30.0          40.0            -11.0   \n",
       "\n",
       "   % Shrinkage 90  \n",
       "0           -21.0  \n",
       "1            -8.0  "
      ]
     },
     "execution_count": 9,
     "metadata": {},
     "output_type": "execute_result"
    }
   ],
   "source": [
    "df_thin['% Stretch rvd'] = round(((df_thin['Stretched length rvd']-df_thin['Length rvd'])/df_thin['Length rvd']*100),1)\n",
    "df_thin['% Stretch 90'] = round (((df_thin['Stretched length 90']-df_thin['Length 90'])/df_thin['Length 90']*100),1)\n",
    "df_thin['% Shrinkage rvd'] = round (((df_thin['Length_after rvd']-df_thin['Length rvd'])/df_thin['Length rvd']*100),1)\n",
    "df_thin['% Shrinkage 90'] = round (((df_thin['Length_after 90']-df_thin['Length 90'])/df_thin['Length 90']*100),1)\n",
    "df_thin.head(2)"
   ]
  },
  {
   "cell_type": "markdown",
   "metadata": {},
   "source": [
    "Copying the columns with expection of the lengths\n"
   ]
  },
  {
   "cell_type": "code",
   "execution_count": 10,
   "metadata": {},
   "outputs": [
    {
     "data": {
      "text/html": [
       "<div>\n",
       "<style>\n",
       "    .dataframe thead tr:only-child th {\n",
       "        text-align: right;\n",
       "    }\n",
       "\n",
       "    .dataframe thead th {\n",
       "        text-align: left;\n",
       "    }\n",
       "\n",
       "    .dataframe tbody tr th {\n",
       "        vertical-align: top;\n",
       "    }\n",
       "</style>\n",
       "<table border=\"1\" class=\"dataframe\">\n",
       "  <thead>\n",
       "    <tr style=\"text-align: right;\">\n",
       "      <th></th>\n",
       "      <th>Fabric-type</th>\n",
       "      <th>Fabric</th>\n",
       "      <th>Description</th>\n",
       "      <th>Stretch?</th>\n",
       "      <th>% Stretch rvd</th>\n",
       "      <th>% Stretch 90</th>\n",
       "      <th>% Shrinkage rvd</th>\n",
       "      <th>% Shrinkage 90</th>\n",
       "    </tr>\n",
       "  </thead>\n",
       "  <tbody>\n",
       "    <tr>\n",
       "      <th>0</th>\n",
       "      <td>Knitted</td>\n",
       "      <td>Purple</td>\n",
       "      <td>Thick tricot</td>\n",
       "      <td>4 way</td>\n",
       "      <td>70.0</td>\n",
       "      <td>60.0</td>\n",
       "      <td>-19.0</td>\n",
       "      <td>-21.0</td>\n",
       "    </tr>\n",
       "    <tr>\n",
       "      <th>1</th>\n",
       "      <td>Knitted</td>\n",
       "      <td>Brown/beige</td>\n",
       "      <td>Thick/ double tricot</td>\n",
       "      <td>4 way</td>\n",
       "      <td>30.0</td>\n",
       "      <td>40.0</td>\n",
       "      <td>-11.0</td>\n",
       "      <td>-8.0</td>\n",
       "    </tr>\n",
       "    <tr>\n",
       "      <th>2</th>\n",
       "      <td>Knitted</td>\n",
       "      <td>Dark blue &amp; brown</td>\n",
       "      <td>Thick/ double tricot</td>\n",
       "      <td>2 way</td>\n",
       "      <td>0.0</td>\n",
       "      <td>110.0</td>\n",
       "      <td>-10.0</td>\n",
       "      <td>-10.0</td>\n",
       "    </tr>\n",
       "    <tr>\n",
       "      <th>3</th>\n",
       "      <td>Knitted</td>\n",
       "      <td>Dark blue</td>\n",
       "      <td>Jogging</td>\n",
       "      <td>4 way</td>\n",
       "      <td>19.0</td>\n",
       "      <td>30.0</td>\n",
       "      <td>-17.1</td>\n",
       "      <td>-16.0</td>\n",
       "    </tr>\n",
       "    <tr>\n",
       "      <th>4</th>\n",
       "      <td>Knitted</td>\n",
       "      <td>Dark blue &amp; black</td>\n",
       "      <td>Thin tricot</td>\n",
       "      <td>4 way</td>\n",
       "      <td>71.4</td>\n",
       "      <td>100.0</td>\n",
       "      <td>-29.5</td>\n",
       "      <td>-25.0</td>\n",
       "    </tr>\n",
       "  </tbody>\n",
       "</table>\n",
       "</div>"
      ],
      "text/plain": [
       "  Fabric-type             Fabric           Description Stretch?  \\\n",
       "0     Knitted             Purple          Thick tricot    4 way   \n",
       "1     Knitted        Brown/beige  Thick/ double tricot    4 way   \n",
       "2     Knitted  Dark blue & brown  Thick/ double tricot    2 way   \n",
       "3     Knitted          Dark blue               Jogging    4 way   \n",
       "4     Knitted  Dark blue & black           Thin tricot    4 way   \n",
       "\n",
       "   % Stretch rvd  % Stretch 90  % Shrinkage rvd  % Shrinkage 90  \n",
       "0           70.0          60.0            -19.0           -21.0  \n",
       "1           30.0          40.0            -11.0            -8.0  \n",
       "2            0.0         110.0            -10.0           -10.0  \n",
       "3           19.0          30.0            -17.1           -16.0  \n",
       "4           71.4         100.0            -29.5           -25.0  "
      ]
     },
     "execution_count": 10,
     "metadata": {},
     "output_type": "execute_result"
    }
   ],
   "source": [
    "df_thin_perc= pd.DataFrame()\n",
    "df_thin_perc= df_thin[['Fabric-type', 'Fabric', 'Description', 'Stretch?', '% Stretch rvd', '% Stretch 90', '% Shrinkage rvd', '% Shrinkage 90']].copy()\n",
    "df_thin_perc.head()"
   ]
  },
  {
   "cell_type": "markdown",
   "metadata": {},
   "source": [
    "Rename columns to make them distinguishable when merged"
   ]
  },
  {
   "cell_type": "code",
   "execution_count": 11,
   "metadata": {},
   "outputs": [
    {
     "data": {
      "text/html": [
       "<div>\n",
       "<style>\n",
       "    .dataframe thead tr:only-child th {\n",
       "        text-align: right;\n",
       "    }\n",
       "\n",
       "    .dataframe thead th {\n",
       "        text-align: left;\n",
       "    }\n",
       "\n",
       "    .dataframe tbody tr th {\n",
       "        vertical-align: top;\n",
       "    }\n",
       "</style>\n",
       "<table border=\"1\" class=\"dataframe\">\n",
       "  <thead>\n",
       "    <tr style=\"text-align: right;\">\n",
       "      <th></th>\n",
       "      <th>Fabric</th>\n",
       "      <th>Fabric-type</th>\n",
       "      <th>% stretch thick rvd</th>\n",
       "      <th>% stretch thick 90</th>\n",
       "    </tr>\n",
       "  </thead>\n",
       "  <tbody>\n",
       "    <tr>\n",
       "      <th>0</th>\n",
       "      <td>Purple</td>\n",
       "      <td>Knitted</td>\n",
       "      <td>60.0</td>\n",
       "      <td>50.0</td>\n",
       "    </tr>\n",
       "    <tr>\n",
       "      <th>1</th>\n",
       "      <td>Brown/beige</td>\n",
       "      <td>Knitted</td>\n",
       "      <td>35.0</td>\n",
       "      <td>44.4</td>\n",
       "    </tr>\n",
       "  </tbody>\n",
       "</table>\n",
       "</div>"
      ],
      "text/plain": [
       "        Fabric Fabric-type  % stretch thick rvd  % stretch thick 90\n",
       "0       Purple     Knitted                 60.0                50.0\n",
       "1  Brown/beige     Knitted                 35.0                44.4"
      ]
     },
     "execution_count": 11,
     "metadata": {},
     "output_type": "execute_result"
    }
   ],
   "source": [
    "df_stretch_thick= df_thick_perc[['Fabric','Fabric-type', '% Stretch rvd', '% Stretch 90']]\n",
    "df_stretch_thick.rename(columns={'% Stretch rvd': '% stretch thick rvd', '% Stretch 90':'% stretch thick 90' }, inplace= True)\n",
    "df_stretch_thin= df_thin_perc[['Fabric','Fabric-type','% Stretch rvd', '% Stretch 90']]\n",
    "df_stretch_thin.rename(columns={'% Stretch rvd': '% stretch thin rvd', '% Stretch 90':'% stretch thin 90' }, inplace= True)\n",
    "df_stretch_thick.head(2)"
   ]
  },
  {
   "cell_type": "markdown",
   "metadata": {},
   "source": [
    "Merge dataframes with information about the stretch"
   ]
  },
  {
   "cell_type": "code",
   "execution_count": 12,
   "metadata": {},
   "outputs": [
    {
     "data": {
      "text/html": [
       "<div>\n",
       "<style>\n",
       "    .dataframe thead tr:only-child th {\n",
       "        text-align: right;\n",
       "    }\n",
       "\n",
       "    .dataframe thead th {\n",
       "        text-align: left;\n",
       "    }\n",
       "\n",
       "    .dataframe tbody tr th {\n",
       "        vertical-align: top;\n",
       "    }\n",
       "</style>\n",
       "<table border=\"1\" class=\"dataframe\">\n",
       "  <thead>\n",
       "    <tr style=\"text-align: right;\">\n",
       "      <th></th>\n",
       "      <th>Fabric</th>\n",
       "      <th>Fabric-type</th>\n",
       "      <th>% stretch thick rvd</th>\n",
       "      <th>% stretch thick 90</th>\n",
       "      <th>% stretch thin rvd</th>\n",
       "      <th>% stretch thin 90</th>\n",
       "    </tr>\n",
       "  </thead>\n",
       "  <tbody>\n",
       "    <tr>\n",
       "      <th>0</th>\n",
       "      <td>Purple</td>\n",
       "      <td>Knitted</td>\n",
       "      <td>60.0</td>\n",
       "      <td>50.0</td>\n",
       "      <td>70.0</td>\n",
       "      <td>60.0</td>\n",
       "    </tr>\n",
       "    <tr>\n",
       "      <th>1</th>\n",
       "      <td>Brown/beige</td>\n",
       "      <td>Knitted</td>\n",
       "      <td>35.0</td>\n",
       "      <td>44.4</td>\n",
       "      <td>30.0</td>\n",
       "      <td>40.0</td>\n",
       "    </tr>\n",
       "    <tr>\n",
       "      <th>2</th>\n",
       "      <td>Dark blue &amp; brown</td>\n",
       "      <td>Knitted</td>\n",
       "      <td>0.0</td>\n",
       "      <td>100.0</td>\n",
       "      <td>0.0</td>\n",
       "      <td>110.0</td>\n",
       "    </tr>\n",
       "    <tr>\n",
       "      <th>3</th>\n",
       "      <td>Dark blue</td>\n",
       "      <td>Knitted</td>\n",
       "      <td>18.0</td>\n",
       "      <td>23.8</td>\n",
       "      <td>19.0</td>\n",
       "      <td>30.0</td>\n",
       "    </tr>\n",
       "    <tr>\n",
       "      <th>4</th>\n",
       "      <td>Dark blue &amp; black</td>\n",
       "      <td>Knitted</td>\n",
       "      <td>70.0</td>\n",
       "      <td>95.0</td>\n",
       "      <td>71.4</td>\n",
       "      <td>100.0</td>\n",
       "    </tr>\n",
       "  </tbody>\n",
       "</table>\n",
       "</div>"
      ],
      "text/plain": [
       "              Fabric Fabric-type  % stretch thick rvd  % stretch thick 90  \\\n",
       "0             Purple     Knitted                 60.0                50.0   \n",
       "1        Brown/beige     Knitted                 35.0                44.4   \n",
       "2  Dark blue & brown     Knitted                  0.0               100.0   \n",
       "3          Dark blue     Knitted                 18.0                23.8   \n",
       "4  Dark blue & black     Knitted                 70.0                95.0   \n",
       "\n",
       "   % stretch thin rvd  % stretch thin 90  \n",
       "0                70.0               60.0  \n",
       "1                30.0               40.0  \n",
       "2                 0.0              110.0  \n",
       "3                19.0               30.0  \n",
       "4                71.4              100.0  "
      ]
     },
     "execution_count": 12,
     "metadata": {},
     "output_type": "execute_result"
    }
   ],
   "source": [
    "df_stretch= (pd.merge(df_stretch_thick, df_stretch_thin))\n",
    "df_stretch.head()"
   ]
  },
  {
   "cell_type": "code",
   "execution_count": 13,
   "metadata": {},
   "outputs": [
    {
     "data": {
      "text/plain": [
       "% stretch thick rvd    17.98750\n",
       "% stretch thick 90     28.30625\n",
       "% stretch thin rvd     19.08750\n",
       "% stretch thin 90      29.06250\n",
       "dtype: float64"
      ]
     },
     "execution_count": 13,
     "metadata": {},
     "output_type": "execute_result"
    }
   ],
   "source": [
    "df_stretch.mean()"
   ]
  },
  {
   "cell_type": "markdown",
   "metadata": {},
   "source": [
    "Rename columns to make them distinguishable when merged"
   ]
  },
  {
   "cell_type": "code",
   "execution_count": 14,
   "metadata": {},
   "outputs": [
    {
     "data": {
      "text/html": [
       "<div>\n",
       "<style>\n",
       "    .dataframe thead tr:only-child th {\n",
       "        text-align: right;\n",
       "    }\n",
       "\n",
       "    .dataframe thead th {\n",
       "        text-align: left;\n",
       "    }\n",
       "\n",
       "    .dataframe tbody tr th {\n",
       "        vertical-align: top;\n",
       "    }\n",
       "</style>\n",
       "<table border=\"1\" class=\"dataframe\">\n",
       "  <thead>\n",
       "    <tr style=\"text-align: right;\">\n",
       "      <th></th>\n",
       "      <th>Fabric</th>\n",
       "      <th>Fabric-type</th>\n",
       "      <th>% shrinkage thick rvd</th>\n",
       "      <th>% shrinkage thick 90</th>\n",
       "    </tr>\n",
       "  </thead>\n",
       "  <tbody>\n",
       "    <tr>\n",
       "      <th>0</th>\n",
       "      <td>Purple</td>\n",
       "      <td>Knitted</td>\n",
       "      <td>-25.0</td>\n",
       "      <td>-20.0</td>\n",
       "    </tr>\n",
       "    <tr>\n",
       "      <th>1</th>\n",
       "      <td>Brown/beige</td>\n",
       "      <td>Knitted</td>\n",
       "      <td>-15.0</td>\n",
       "      <td>-14.4</td>\n",
       "    </tr>\n",
       "  </tbody>\n",
       "</table>\n",
       "</div>"
      ],
      "text/plain": [
       "        Fabric Fabric-type  % shrinkage thick rvd  % shrinkage thick 90\n",
       "0       Purple     Knitted                  -25.0                 -20.0\n",
       "1  Brown/beige     Knitted                  -15.0                 -14.4"
      ]
     },
     "execution_count": 14,
     "metadata": {},
     "output_type": "execute_result"
    }
   ],
   "source": [
    "df_shrinkage_thick= df_thick_perc[['Fabric','Fabric-type','% Shrinkage rvd', '% Shrinkage 90']]\n",
    "df_shrinkage_thick.rename(columns={'% Shrinkage rvd': '% shrinkage thick rvd', '% Shrinkage 90':'% shrinkage thick 90' }, inplace= True)\n",
    "df_shrinkage_thin= df_thin_perc[['Fabric','Fabric-type','% Shrinkage rvd', '% Shrinkage 90']]\n",
    "df_shrinkage_thin.rename(columns={'% Shrinkage rvd': '% shrinkage thin rvd', '% Shrinkage 90':'% shrinkage thin 90' }, inplace= True)\n",
    "df_shrinkage_thick.head(2)"
   ]
  },
  {
   "cell_type": "markdown",
   "metadata": {},
   "source": [
    "Merge dataframes with information about the shrinkage"
   ]
  },
  {
   "cell_type": "code",
   "execution_count": 15,
   "metadata": {},
   "outputs": [
    {
     "data": {
      "text/html": [
       "<div>\n",
       "<style>\n",
       "    .dataframe thead tr:only-child th {\n",
       "        text-align: right;\n",
       "    }\n",
       "\n",
       "    .dataframe thead th {\n",
       "        text-align: left;\n",
       "    }\n",
       "\n",
       "    .dataframe tbody tr th {\n",
       "        vertical-align: top;\n",
       "    }\n",
       "</style>\n",
       "<table border=\"1\" class=\"dataframe\">\n",
       "  <thead>\n",
       "    <tr style=\"text-align: right;\">\n",
       "      <th></th>\n",
       "      <th>Fabric</th>\n",
       "      <th>Fabric-type</th>\n",
       "      <th>% shrinkage thick rvd</th>\n",
       "      <th>% shrinkage thick 90</th>\n",
       "      <th>% shrinkage thin rvd</th>\n",
       "      <th>% shrinkage thin 90</th>\n",
       "    </tr>\n",
       "  </thead>\n",
       "  <tbody>\n",
       "    <tr>\n",
       "      <th>0</th>\n",
       "      <td>Purple</td>\n",
       "      <td>Knitted</td>\n",
       "      <td>-25.0</td>\n",
       "      <td>-20.0</td>\n",
       "      <td>-19.0</td>\n",
       "      <td>-21.0</td>\n",
       "    </tr>\n",
       "    <tr>\n",
       "      <th>1</th>\n",
       "      <td>Brown/beige</td>\n",
       "      <td>Knitted</td>\n",
       "      <td>-15.0</td>\n",
       "      <td>-14.4</td>\n",
       "      <td>-11.0</td>\n",
       "      <td>-8.0</td>\n",
       "    </tr>\n",
       "    <tr>\n",
       "      <th>2</th>\n",
       "      <td>Dark blue &amp; brown</td>\n",
       "      <td>Knitted</td>\n",
       "      <td>-21.0</td>\n",
       "      <td>-28.6</td>\n",
       "      <td>-10.0</td>\n",
       "      <td>-10.0</td>\n",
       "    </tr>\n",
       "    <tr>\n",
       "      <th>3</th>\n",
       "      <td>Dark blue</td>\n",
       "      <td>Knitted</td>\n",
       "      <td>-15.0</td>\n",
       "      <td>-24.8</td>\n",
       "      <td>-17.1</td>\n",
       "      <td>-16.0</td>\n",
       "    </tr>\n",
       "    <tr>\n",
       "      <th>4</th>\n",
       "      <td>Dark blue &amp; black</td>\n",
       "      <td>Knitted</td>\n",
       "      <td>-40.0</td>\n",
       "      <td>-40.0</td>\n",
       "      <td>-29.5</td>\n",
       "      <td>-25.0</td>\n",
       "    </tr>\n",
       "  </tbody>\n",
       "</table>\n",
       "</div>"
      ],
      "text/plain": [
       "              Fabric Fabric-type  % shrinkage thick rvd  % shrinkage thick 90  \\\n",
       "0             Purple     Knitted                  -25.0                 -20.0   \n",
       "1        Brown/beige     Knitted                  -15.0                 -14.4   \n",
       "2  Dark blue & brown     Knitted                  -21.0                 -28.6   \n",
       "3          Dark blue     Knitted                  -15.0                 -24.8   \n",
       "4  Dark blue & black     Knitted                  -40.0                 -40.0   \n",
       "\n",
       "   % shrinkage thin rvd  % shrinkage thin 90  \n",
       "0                 -19.0                -21.0  \n",
       "1                 -11.0                 -8.0  \n",
       "2                 -10.0                -10.0  \n",
       "3                 -17.1                -16.0  \n",
       "4                 -29.5                -25.0  "
      ]
     },
     "execution_count": 15,
     "metadata": {},
     "output_type": "execute_result"
    }
   ],
   "source": [
    "df_shrinkage= (pd.merge(df_shrinkage_thick, df_shrinkage_thin))\n",
    "df_shrinkage.head()"
   ]
  },
  {
   "cell_type": "markdown",
   "metadata": {},
   "source": [
    "## Visualisation\n"
   ]
  },
  {
   "cell_type": "code",
   "execution_count": 16,
   "metadata": {},
   "outputs": [
    {
     "data": {
      "text/plain": [
       "<matplotlib.axes._subplots.AxesSubplot at 0x111dfc7b7f0>"
      ]
     },
     "execution_count": 16,
     "metadata": {},
     "output_type": "execute_result"
    },
    {
     "data": {
      "image/png": "[encoded data removed]",
      "text/plain": [
       "<matplotlib.figure.Figure at 0x111dfc8c5c0>"
      ]
     },
     "metadata": {},
     "output_type": "display_data"
    }
   ],
   "source": [
    "df_stretch.plot()\n"
   ]
  },
  {
   "cell_type": "code",
   "execution_count": null,
   "metadata": {
    "collapsed": true
   },
   "outputs": [],
   "source": []
  },
  {
   "cell_type": "code",
   "execution_count": 17,
   "metadata": {},
   "outputs": [
    {
     "data": {
      "text/plain": [
       "<matplotlib.axes._subplots.AxesSubplot at 0x111e0017cc0>"
      ]
     },
     "execution_count": 17,
     "metadata": {},
     "output_type": "execute_result"
    },
    {
     "data": {
      "image/png": "[encoded data removed]",
      "text/plain": [
       "<matplotlib.figure.Figure at 0x111dfa233c8>"
      ]
     },
     "metadata": {},
     "output_type": "display_data"
    }
   ],
   "source": [
    "df_shrinkage.plot()"
   ]
  },
  {
   "cell_type": "markdown",
   "metadata": {},
   "source": [
    "Calculate the mean shrinkage of both the thick and thin alginate either along the grain or perpendicular"
   ]
  },
  {
   "cell_type": "code",
   "execution_count": 18,
   "metadata": {},
   "outputs": [
    {
     "data": {
      "text/plain": [
       "% shrinkage thick rvd   -23.90\n",
       "% shrinkage thick 90    -24.18\n",
       "% shrinkage thin rvd    -18.04\n",
       "% shrinkage thin 90     -17.83\n",
       "dtype: float64"
      ]
     },
     "execution_count": 18,
     "metadata": {},
     "output_type": "execute_result"
    }
   ],
   "source": [
    "round(df_shrinkage.mean(),2)\n"
   ]
  },
  {
   "cell_type": "code",
   "execution_count": 19,
   "metadata": {},
   "outputs": [
    {
     "data": {
      "text/html": [
       "<div>\n",
       "<style>\n",
       "    .dataframe thead tr:only-child th {\n",
       "        text-align: right;\n",
       "    }\n",
       "\n",
       "    .dataframe thead th {\n",
       "        text-align: left;\n",
       "    }\n",
       "\n",
       "    .dataframe tbody tr th {\n",
       "        vertical-align: top;\n",
       "    }\n",
       "</style>\n",
       "<table border=\"1\" class=\"dataframe\">\n",
       "  <thead>\n",
       "    <tr style=\"text-align: right;\">\n",
       "      <th></th>\n",
       "      <th>Fabric</th>\n",
       "      <th>Fabric-type</th>\n",
       "      <th>% shrinkage thick rvd</th>\n",
       "      <th>% shrinkage thick 90</th>\n",
       "      <th>% shrinkage thin rvd</th>\n",
       "      <th>% shrinkage thin 90</th>\n",
       "    </tr>\n",
       "  </thead>\n",
       "  <tbody>\n",
       "    <tr>\n",
       "      <th>0</th>\n",
       "      <td>Purple</td>\n",
       "      <td>Knitted</td>\n",
       "      <td>-25.0</td>\n",
       "      <td>-20.0</td>\n",
       "      <td>-19.0</td>\n",
       "      <td>-21.0</td>\n",
       "    </tr>\n",
       "  </tbody>\n",
       "</table>\n",
       "</div>"
      ],
      "text/plain": [
       "   Fabric Fabric-type  % shrinkage thick rvd  % shrinkage thick 90  \\\n",
       "0  Purple     Knitted                  -25.0                 -20.0   \n",
       "\n",
       "   % shrinkage thin rvd  % shrinkage thin 90  \n",
       "0                 -19.0                -21.0  "
      ]
     },
     "execution_count": 19,
     "metadata": {},
     "output_type": "execute_result"
    }
   ],
   "source": [
    "df_shrinkage.dropna()\n",
    "df_shrinkage.head(1)"
   ]
  },
  {
   "cell_type": "code",
   "execution_count": 20,
   "metadata": {
    "scrolled": true
   },
   "outputs": [
    {
     "data": {
      "text/plain": [
       "<matplotlib.text.Text at 0x111e0365ef0>"
      ]
     },
     "execution_count": 20,
     "metadata": {},
     "output_type": "execute_result"
    },
    {
     "data": {
      "image/png": "[encoded data removed]",
      "text/plain": [
       "<matplotlib.figure.Figure at 0x111e0328278>"
      ]
     },
     "metadata": {},
     "output_type": "display_data"
    }
   ],
   "source": [
    "fig, ax = plt.subplots(figsize=(15, 8))\n",
    "df_shrinkage.plot( y= '% shrinkage thick rvd',ax=ax)\n",
    "df_shrinkage.plot( y= '% shrinkage thick 90', ax=ax)\n",
    "ax.set_title(\"Shrinkage 5 w/v % alginate\")"
   ]
  },
  {
   "cell_type": "code",
   "execution_count": 21,
   "metadata": {
    "collapsed": true
   },
   "outputs": [],
   "source": [
    "ax.figure.savefig(\"dem_5_thickness.png\", dpi =800)"
   ]
  },
  {
   "cell_type": "markdown",
   "metadata": {},
   "source": [
    "## Mean shrinkage and weight"
   ]
  },
  {
   "cell_type": "markdown",
   "metadata": {},
   "source": [
    "Calculate the mean shrinkage for each fabric sample"
   ]
  },
  {
   "cell_type": "code",
   "execution_count": 22,
   "metadata": {},
   "outputs": [
    {
     "data": {
      "text/html": [
       "<div>\n",
       "<style>\n",
       "    .dataframe thead tr:only-child th {\n",
       "        text-align: right;\n",
       "    }\n",
       "\n",
       "    .dataframe thead th {\n",
       "        text-align: left;\n",
       "    }\n",
       "\n",
       "    .dataframe tbody tr th {\n",
       "        vertical-align: top;\n",
       "    }\n",
       "</style>\n",
       "<table border=\"1\" class=\"dataframe\">\n",
       "  <thead>\n",
       "    <tr style=\"text-align: right;\">\n",
       "      <th></th>\n",
       "      <th>Fabric</th>\n",
       "      <th>Fabric-type</th>\n",
       "      <th>% shrinkage thick rvd</th>\n",
       "      <th>% shrinkage thick 90</th>\n",
       "      <th>% shrinkage thin rvd</th>\n",
       "      <th>% shrinkage thin 90</th>\n",
       "      <th>mean shrinkage</th>\n",
       "    </tr>\n",
       "  </thead>\n",
       "  <tbody>\n",
       "    <tr>\n",
       "      <th>0</th>\n",
       "      <td>Purple</td>\n",
       "      <td>Knitted</td>\n",
       "      <td>-25.0</td>\n",
       "      <td>-20.0</td>\n",
       "      <td>-19.0</td>\n",
       "      <td>-21.0</td>\n",
       "      <td>-21.2</td>\n",
       "    </tr>\n",
       "    <tr>\n",
       "      <th>1</th>\n",
       "      <td>Brown/beige</td>\n",
       "      <td>Knitted</td>\n",
       "      <td>-15.0</td>\n",
       "      <td>-14.4</td>\n",
       "      <td>-11.0</td>\n",
       "      <td>-8.0</td>\n",
       "      <td>-12.1</td>\n",
       "    </tr>\n",
       "    <tr>\n",
       "      <th>2</th>\n",
       "      <td>Dark blue &amp; brown</td>\n",
       "      <td>Knitted</td>\n",
       "      <td>-21.0</td>\n",
       "      <td>-28.6</td>\n",
       "      <td>-10.0</td>\n",
       "      <td>-10.0</td>\n",
       "      <td>-17.4</td>\n",
       "    </tr>\n",
       "    <tr>\n",
       "      <th>3</th>\n",
       "      <td>Dark blue</td>\n",
       "      <td>Knitted</td>\n",
       "      <td>-15.0</td>\n",
       "      <td>-24.8</td>\n",
       "      <td>-17.1</td>\n",
       "      <td>-16.0</td>\n",
       "      <td>-18.2</td>\n",
       "    </tr>\n",
       "    <tr>\n",
       "      <th>4</th>\n",
       "      <td>Dark blue &amp; black</td>\n",
       "      <td>Knitted</td>\n",
       "      <td>-40.0</td>\n",
       "      <td>-40.0</td>\n",
       "      <td>-29.5</td>\n",
       "      <td>-25.0</td>\n",
       "      <td>-33.6</td>\n",
       "    </tr>\n",
       "    <tr>\n",
       "      <th>5</th>\n",
       "      <td>Black</td>\n",
       "      <td>Knitted</td>\n",
       "      <td>-28.0</td>\n",
       "      <td>-20.0</td>\n",
       "      <td>-20.0</td>\n",
       "      <td>-10.0</td>\n",
       "      <td>-19.5</td>\n",
       "    </tr>\n",
       "    <tr>\n",
       "      <th>6</th>\n",
       "      <td>Dark blue linen</td>\n",
       "      <td>Woven</td>\n",
       "      <td>-16.8</td>\n",
       "      <td>-31.0</td>\n",
       "      <td>-14.0</td>\n",
       "      <td>-22.0</td>\n",
       "      <td>-21.0</td>\n",
       "    </tr>\n",
       "    <tr>\n",
       "      <th>7</th>\n",
       "      <td>Corduroy</td>\n",
       "      <td>Woven</td>\n",
       "      <td>-34.0</td>\n",
       "      <td>-19.0</td>\n",
       "      <td>-12.0</td>\n",
       "      <td>-17.0</td>\n",
       "      <td>-20.5</td>\n",
       "    </tr>\n",
       "    <tr>\n",
       "      <th>8</th>\n",
       "      <td>White flowers small</td>\n",
       "      <td>Woven</td>\n",
       "      <td>-20.0</td>\n",
       "      <td>-9.0</td>\n",
       "      <td>-13.0</td>\n",
       "      <td>-10.0</td>\n",
       "      <td>-13.0</td>\n",
       "    </tr>\n",
       "    <tr>\n",
       "      <th>9</th>\n",
       "      <td>Jeans</td>\n",
       "      <td>Woven</td>\n",
       "      <td>-12.0</td>\n",
       "      <td>-15.0</td>\n",
       "      <td>-19.0</td>\n",
       "      <td>-7.0</td>\n",
       "      <td>-13.2</td>\n",
       "    </tr>\n",
       "    <tr>\n",
       "      <th>10</th>\n",
       "      <td>Cheesecloth</td>\n",
       "      <td>Woven</td>\n",
       "      <td>-33.3</td>\n",
       "      <td>-32.0</td>\n",
       "      <td>-27.0</td>\n",
       "      <td>-34.3</td>\n",
       "      <td>-31.6</td>\n",
       "    </tr>\n",
       "    <tr>\n",
       "      <th>11</th>\n",
       "      <td>Blue linen</td>\n",
       "      <td>Woven</td>\n",
       "      <td>-15.0</td>\n",
       "      <td>-23.0</td>\n",
       "      <td>-11.0</td>\n",
       "      <td>-16.0</td>\n",
       "      <td>-16.2</td>\n",
       "    </tr>\n",
       "    <tr>\n",
       "      <th>12</th>\n",
       "      <td>Dark &amp; light blue thin</td>\n",
       "      <td>Woven</td>\n",
       "      <td>-30.0</td>\n",
       "      <td>-41.9</td>\n",
       "      <td>-31.0</td>\n",
       "      <td>-32.0</td>\n",
       "      <td>-33.7</td>\n",
       "    </tr>\n",
       "    <tr>\n",
       "      <th>13</th>\n",
       "      <td>White flowers big</td>\n",
       "      <td>Woven</td>\n",
       "      <td>-6.0</td>\n",
       "      <td>-17.0</td>\n",
       "      <td>-7.0</td>\n",
       "      <td>-11.0</td>\n",
       "      <td>-10.2</td>\n",
       "    </tr>\n",
       "    <tr>\n",
       "      <th>14</th>\n",
       "      <td>Green</td>\n",
       "      <td>Woven</td>\n",
       "      <td>-34.3</td>\n",
       "      <td>-38.1</td>\n",
       "      <td>-28.0</td>\n",
       "      <td>-29.0</td>\n",
       "      <td>-32.4</td>\n",
       "    </tr>\n",
       "    <tr>\n",
       "      <th>15</th>\n",
       "      <td>Unbleached cotton</td>\n",
       "      <td>Woven</td>\n",
       "      <td>-37.0</td>\n",
       "      <td>-13.0</td>\n",
       "      <td>-20.0</td>\n",
       "      <td>-17.0</td>\n",
       "      <td>-21.8</td>\n",
       "    </tr>\n",
       "    <tr>\n",
       "      <th>16</th>\n",
       "      <td>NaN</td>\n",
       "      <td></td>\n",
       "      <td>NaN</td>\n",
       "      <td>NaN</td>\n",
       "      <td>NaN</td>\n",
       "      <td>NaN</td>\n",
       "      <td>NaN</td>\n",
       "    </tr>\n",
       "  </tbody>\n",
       "</table>\n",
       "</div>"
      ],
      "text/plain": [
       "                    Fabric Fabric-type  % shrinkage thick rvd  \\\n",
       "0                   Purple     Knitted                  -25.0   \n",
       "1              Brown/beige     Knitted                  -15.0   \n",
       "2        Dark blue & brown     Knitted                  -21.0   \n",
       "3                Dark blue     Knitted                  -15.0   \n",
       "4        Dark blue & black     Knitted                  -40.0   \n",
       "5                    Black     Knitted                  -28.0   \n",
       "6          Dark blue linen       Woven                  -16.8   \n",
       "7                 Corduroy       Woven                  -34.0   \n",
       "8      White flowers small       Woven                  -20.0   \n",
       "9                    Jeans       Woven                  -12.0   \n",
       "10             Cheesecloth       Woven                  -33.3   \n",
       "11              Blue linen       Woven                  -15.0   \n",
       "12  Dark & light blue thin       Woven                  -30.0   \n",
       "13       White flowers big       Woven                   -6.0   \n",
       "14                   Green       Woven                  -34.3   \n",
       "15       Unbleached cotton       Woven                  -37.0   \n",
       "16                     NaN                                NaN   \n",
       "\n",
       "    % shrinkage thick 90  % shrinkage thin rvd  % shrinkage thin 90  \\\n",
       "0                  -20.0                 -19.0                -21.0   \n",
       "1                  -14.4                 -11.0                 -8.0   \n",
       "2                  -28.6                 -10.0                -10.0   \n",
       "3                  -24.8                 -17.1                -16.0   \n",
       "4                  -40.0                 -29.5                -25.0   \n",
       "5                  -20.0                 -20.0                -10.0   \n",
       "6                  -31.0                 -14.0                -22.0   \n",
       "7                  -19.0                 -12.0                -17.0   \n",
       "8                   -9.0                 -13.0                -10.0   \n",
       "9                  -15.0                 -19.0                 -7.0   \n",
       "10                 -32.0                 -27.0                -34.3   \n",
       "11                 -23.0                 -11.0                -16.0   \n",
       "12                 -41.9                 -31.0                -32.0   \n",
       "13                 -17.0                  -7.0                -11.0   \n",
       "14                 -38.1                 -28.0                -29.0   \n",
       "15                 -13.0                 -20.0                -17.0   \n",
       "16                   NaN                   NaN                  NaN   \n",
       "\n",
       "    mean shrinkage  \n",
       "0            -21.2  \n",
       "1            -12.1  \n",
       "2            -17.4  \n",
       "3            -18.2  \n",
       "4            -33.6  \n",
       "5            -19.5  \n",
       "6            -21.0  \n",
       "7            -20.5  \n",
       "8            -13.0  \n",
       "9            -13.2  \n",
       "10           -31.6  \n",
       "11           -16.2  \n",
       "12           -33.7  \n",
       "13           -10.2  \n",
       "14           -32.4  \n",
       "15           -21.8  \n",
       "16             NaN  "
      ]
     },
     "execution_count": 22,
     "metadata": {},
     "output_type": "execute_result"
    }
   ],
   "source": [
    "df_shrinkage['mean shrinkage']= round(df_shrinkage.mean(axis=1),1)\n",
    "df_shrinkage"
   ]
  },
  {
   "cell_type": "markdown",
   "metadata": {},
   "source": [
    "Merge the dataframes to get one dateframe with both the fabric, fabric-type, mean shrinkage, weight in grams and the perceived weight"
   ]
  },
  {
   "cell_type": "code",
   "execution_count": 23,
   "metadata": {
    "collapsed": true
   },
   "outputs": [],
   "source": [
    "df_shrink_mean =(pd.merge(df_shrinkage[['Fabric', 'Fabric-type','mean shrinkage']], df_weight))\n",
    "df_shrink_mean.dropna()\n",
    "df_shrink_mean.to_csv(\"mean shrinkage.csv\")"
   ]
  },
  {
   "cell_type": "code",
   "execution_count": 24,
   "metadata": {},
   "outputs": [
    {
     "data": {
      "text/html": [
       "<div>\n",
       "<style>\n",
       "    .dataframe thead tr:only-child th {\n",
       "        text-align: right;\n",
       "    }\n",
       "\n",
       "    .dataframe thead th {\n",
       "        text-align: left;\n",
       "    }\n",
       "\n",
       "    .dataframe tbody tr th {\n",
       "        vertical-align: top;\n",
       "    }\n",
       "</style>\n",
       "<table border=\"1\" class=\"dataframe\">\n",
       "  <thead>\n",
       "    <tr style=\"text-align: right;\">\n",
       "      <th></th>\n",
       "      <th>Fabric</th>\n",
       "      <th>Fabric-type</th>\n",
       "      <th>% shrinkage thin rvd</th>\n",
       "      <th>% shrinkage thin 90</th>\n",
       "      <th>Weight (g)</th>\n",
       "      <th>Weight</th>\n",
       "    </tr>\n",
       "  </thead>\n",
       "  <tbody>\n",
       "    <tr>\n",
       "      <th>0</th>\n",
       "      <td>Purple</td>\n",
       "      <td>Knitted</td>\n",
       "      <td>-19.0</td>\n",
       "      <td>-21.0</td>\n",
       "      <td>2</td>\n",
       "      <td>heavy</td>\n",
       "    </tr>\n",
       "    <tr>\n",
       "      <th>1</th>\n",
       "      <td>Brown/beige</td>\n",
       "      <td>Knitted</td>\n",
       "      <td>-11.0</td>\n",
       "      <td>-8.0</td>\n",
       "      <td>2</td>\n",
       "      <td>medium</td>\n",
       "    </tr>\n",
       "    <tr>\n",
       "      <th>2</th>\n",
       "      <td>Dark blue &amp; brown</td>\n",
       "      <td>Knitted</td>\n",
       "      <td>-10.0</td>\n",
       "      <td>-10.0</td>\n",
       "      <td>2</td>\n",
       "      <td>medium</td>\n",
       "    </tr>\n",
       "    <tr>\n",
       "      <th>3</th>\n",
       "      <td>Dark blue</td>\n",
       "      <td>Knitted</td>\n",
       "      <td>-17.1</td>\n",
       "      <td>-16.0</td>\n",
       "      <td>2</td>\n",
       "      <td>heavy</td>\n",
       "    </tr>\n",
       "    <tr>\n",
       "      <th>4</th>\n",
       "      <td>Dark blue &amp; black</td>\n",
       "      <td>Knitted</td>\n",
       "      <td>-29.5</td>\n",
       "      <td>-25.0</td>\n",
       "      <td>2</td>\n",
       "      <td>light</td>\n",
       "    </tr>\n",
       "  </tbody>\n",
       "</table>\n",
       "</div>"
      ],
      "text/plain": [
       "              Fabric Fabric-type  % shrinkage thin rvd  % shrinkage thin 90  \\\n",
       "0             Purple     Knitted                 -19.0                -21.0   \n",
       "1        Brown/beige     Knitted                 -11.0                 -8.0   \n",
       "2  Dark blue & brown     Knitted                 -10.0                -10.0   \n",
       "3          Dark blue     Knitted                 -17.1                -16.0   \n",
       "4  Dark blue & black     Knitted                 -29.5                -25.0   \n",
       "\n",
       "   Weight (g)  Weight  \n",
       "0           2   heavy  \n",
       "1           2  medium  \n",
       "2           2  medium  \n",
       "3           2   heavy  \n",
       "4           2   light  "
      ]
     },
     "execution_count": 24,
     "metadata": {},
     "output_type": "execute_result"
    }
   ],
   "source": [
    "df_shrink_thin =(pd.merge(df_shrinkage[['Fabric', 'Fabric-type','% shrinkage thin rvd', '% shrinkage thin 90']], df_weight))\n",
    "df_shrink_thin.head()"
   ]
  },
  {
   "cell_type": "code",
   "execution_count": 25,
   "metadata": {},
   "outputs": [
    {
     "data": {
      "text/html": [
       "<div>\n",
       "<style>\n",
       "    .dataframe thead tr:only-child th {\n",
       "        text-align: right;\n",
       "    }\n",
       "\n",
       "    .dataframe thead th {\n",
       "        text-align: left;\n",
       "    }\n",
       "\n",
       "    .dataframe tbody tr th {\n",
       "        vertical-align: top;\n",
       "    }\n",
       "</style>\n",
       "<table border=\"1\" class=\"dataframe\">\n",
       "  <thead>\n",
       "    <tr style=\"text-align: right;\">\n",
       "      <th></th>\n",
       "      <th>Fabric</th>\n",
       "      <th>Fabric-type</th>\n",
       "      <th>% shrinkage thick rvd</th>\n",
       "      <th>% shrinkage thick 90</th>\n",
       "      <th>Weight (g)</th>\n",
       "      <th>Weight</th>\n",
       "    </tr>\n",
       "  </thead>\n",
       "  <tbody>\n",
       "    <tr>\n",
       "      <th>0</th>\n",
       "      <td>Purple</td>\n",
       "      <td>Knitted</td>\n",
       "      <td>-25.0</td>\n",
       "      <td>-20.0</td>\n",
       "      <td>2</td>\n",
       "      <td>heavy</td>\n",
       "    </tr>\n",
       "    <tr>\n",
       "      <th>1</th>\n",
       "      <td>Brown/beige</td>\n",
       "      <td>Knitted</td>\n",
       "      <td>-15.0</td>\n",
       "      <td>-14.4</td>\n",
       "      <td>2</td>\n",
       "      <td>medium</td>\n",
       "    </tr>\n",
       "    <tr>\n",
       "      <th>2</th>\n",
       "      <td>Dark blue &amp; brown</td>\n",
       "      <td>Knitted</td>\n",
       "      <td>-21.0</td>\n",
       "      <td>-28.6</td>\n",
       "      <td>2</td>\n",
       "      <td>medium</td>\n",
       "    </tr>\n",
       "    <tr>\n",
       "      <th>3</th>\n",
       "      <td>Dark blue</td>\n",
       "      <td>Knitted</td>\n",
       "      <td>-15.0</td>\n",
       "      <td>-24.8</td>\n",
       "      <td>2</td>\n",
       "      <td>heavy</td>\n",
       "    </tr>\n",
       "    <tr>\n",
       "      <th>4</th>\n",
       "      <td>Dark blue &amp; black</td>\n",
       "      <td>Knitted</td>\n",
       "      <td>-40.0</td>\n",
       "      <td>-40.0</td>\n",
       "      <td>2</td>\n",
       "      <td>light</td>\n",
       "    </tr>\n",
       "  </tbody>\n",
       "</table>\n",
       "</div>"
      ],
      "text/plain": [
       "              Fabric Fabric-type  % shrinkage thick rvd  % shrinkage thick 90  \\\n",
       "0             Purple     Knitted                  -25.0                 -20.0   \n",
       "1        Brown/beige     Knitted                  -15.0                 -14.4   \n",
       "2  Dark blue & brown     Knitted                  -21.0                 -28.6   \n",
       "3          Dark blue     Knitted                  -15.0                 -24.8   \n",
       "4  Dark blue & black     Knitted                  -40.0                 -40.0   \n",
       "\n",
       "   Weight (g)  Weight  \n",
       "0           2   heavy  \n",
       "1           2  medium  \n",
       "2           2  medium  \n",
       "3           2   heavy  \n",
       "4           2   light  "
      ]
     },
     "execution_count": 25,
     "metadata": {},
     "output_type": "execute_result"
    }
   ],
   "source": [
    "df_shrink_thick =(pd.merge(df_shrinkage[['Fabric', 'Fabric-type','% shrinkage thick rvd', '% shrinkage thick 90']], df_weight))\n",
    "df_shrink_thick.head()"
   ]
  },
  {
   "cell_type": "code",
   "execution_count": 26,
   "metadata": {},
   "outputs": [
    {
     "data": {
      "text/plain": [
       "<matplotlib.axes._subplots.AxesSubplot at 0x111e03447f0>"
      ]
     },
     "execution_count": 26,
     "metadata": {},
     "output_type": "execute_result"
    },
    {
     "data": {
      "image/png": "[encoded data removed]",
      "text/plain": [
       "<matplotlib.figure.Figure at 0x111e03fac50>"
      ]
     },
     "metadata": {},
     "output_type": "display_data"
    }
   ],
   "source": [
    "df_shrink_thin.plot(kind ='scatter', x='Weight (g)', y='% shrinkage thin rvd')"
   ]
  },
  {
   "cell_type": "code",
   "execution_count": null,
   "metadata": {
    "collapsed": true
   },
   "outputs": [],
   "source": []
  },
  {
   "cell_type": "markdown",
   "metadata": {},
   "source": [
    "Group the samples by perceived weight and aggregate mean and median weight and shrinkage. The weight mean and median will show if they match with the perceived weight. The mean and median of the mean shrinkage will show if their is a correlation between weight and shrinkage."
   ]
  },
  {
   "cell_type": "code",
   "execution_count": 27,
   "metadata": {},
   "outputs": [
    {
     "data": {
      "text/html": [
       "<div>\n",
       "<style>\n",
       "    .dataframe thead tr:only-child th {\n",
       "        text-align: right;\n",
       "    }\n",
       "\n",
       "    .dataframe thead th {\n",
       "        text-align: left;\n",
       "    }\n",
       "\n",
       "    .dataframe tbody tr th {\n",
       "        vertical-align: top;\n",
       "    }\n",
       "</style>\n",
       "<table border=\"1\" class=\"dataframe\">\n",
       "  <thead>\n",
       "    <tr>\n",
       "      <th></th>\n",
       "      <th colspan=\"2\" halign=\"left\">Weight (g)</th>\n",
       "      <th colspan=\"2\" halign=\"left\">mean shrinkage</th>\n",
       "    </tr>\n",
       "    <tr>\n",
       "      <th></th>\n",
       "      <th>mean</th>\n",
       "      <th>median</th>\n",
       "      <th>mean</th>\n",
       "      <th>median</th>\n",
       "    </tr>\n",
       "    <tr>\n",
       "      <th>Weight</th>\n",
       "      <th></th>\n",
       "      <th></th>\n",
       "      <th></th>\n",
       "      <th></th>\n",
       "    </tr>\n",
       "  </thead>\n",
       "  <tbody>\n",
       "    <tr>\n",
       "      <th>light</th>\n",
       "      <td>0.400000</td>\n",
       "      <td>0</td>\n",
       "      <td>-30.62</td>\n",
       "      <td>-32.4</td>\n",
       "    </tr>\n",
       "    <tr>\n",
       "      <th>medium</th>\n",
       "      <td>1.555556</td>\n",
       "      <td>1</td>\n",
       "      <td>-15.90</td>\n",
       "      <td>-16.2</td>\n",
       "    </tr>\n",
       "    <tr>\n",
       "      <th>heavy</th>\n",
       "      <td>2.000000</td>\n",
       "      <td>2</td>\n",
       "      <td>-19.70</td>\n",
       "      <td>-19.7</td>\n",
       "    </tr>\n",
       "  </tbody>\n",
       "</table>\n",
       "</div>"
      ],
      "text/plain": [
       "       Weight (g)        mean shrinkage       \n",
       "             mean median           mean median\n",
       "Weight                                        \n",
       "light    0.400000      0         -30.62  -32.4\n",
       "medium   1.555556      1         -15.90  -16.2\n",
       "heavy    2.000000      2         -19.70  -19.7"
      ]
     },
     "execution_count": 27,
     "metadata": {},
     "output_type": "execute_result"
    }
   ],
   "source": [
    "grouped =df_shrink_mean.groupby(['Weight'])\n",
    "df_meanweight= grouped['Weight (g)','mean shrinkage'].agg(['mean', 'median'])\n",
    "df_meanweight.reindex(['light', 'medium', 'heavy'])"
   ]
  },
  {
   "cell_type": "markdown",
   "metadata": {},
   "source": [
    "The samples grouped by their weight in grams together with the mean and median shrinkage"
   ]
  },
  {
   "cell_type": "code",
   "execution_count": 28,
   "metadata": {},
   "outputs": [
    {
     "data": {
      "text/html": [
       "<div>\n",
       "<style>\n",
       "    .dataframe thead tr:only-child th {\n",
       "        text-align: right;\n",
       "    }\n",
       "\n",
       "    .dataframe thead th {\n",
       "        text-align: left;\n",
       "    }\n",
       "\n",
       "    .dataframe tbody tr th {\n",
       "        vertical-align: top;\n",
       "    }\n",
       "</style>\n",
       "<table border=\"1\" class=\"dataframe\">\n",
       "  <thead>\n",
       "    <tr style=\"text-align: right;\">\n",
       "      <th></th>\n",
       "      <th>mean</th>\n",
       "      <th>median</th>\n",
       "    </tr>\n",
       "    <tr>\n",
       "      <th>Weight (g)</th>\n",
       "      <th></th>\n",
       "      <th></th>\n",
       "    </tr>\n",
       "  </thead>\n",
       "  <tbody>\n",
       "    <tr>\n",
       "      <th>0</th>\n",
       "      <td>-29.875000</td>\n",
       "      <td>-32.0</td>\n",
       "    </tr>\n",
       "    <tr>\n",
       "      <th>1</th>\n",
       "      <td>-14.620000</td>\n",
       "      <td>-13.2</td>\n",
       "    </tr>\n",
       "    <tr>\n",
       "      <th>2</th>\n",
       "      <td>-20.583333</td>\n",
       "      <td>-19.6</td>\n",
       "    </tr>\n",
       "    <tr>\n",
       "      <th>3</th>\n",
       "      <td>-19.500000</td>\n",
       "      <td>-19.5</td>\n",
       "    </tr>\n",
       "  </tbody>\n",
       "</table>\n",
       "</div>"
      ],
      "text/plain": [
       "                 mean  median\n",
       "Weight (g)                   \n",
       "0          -29.875000   -32.0\n",
       "1          -14.620000   -13.2\n",
       "2          -20.583333   -19.6\n",
       "3          -19.500000   -19.5"
      ]
     },
     "execution_count": 28,
     "metadata": {},
     "output_type": "execute_result"
    }
   ],
   "source": [
    "grouped2= df_shrink_mean.groupby('Weight (g)')\n",
    "df_gram= grouped2['mean shrinkage'].agg(['mean', 'median'])\n",
    "df_gram"
   ]
  },
  {
   "cell_type": "code",
   "execution_count": 29,
   "metadata": {},
   "outputs": [
    {
     "data": {
      "text/html": [
       "<div>\n",
       "<style>\n",
       "    .dataframe thead tr:only-child th {\n",
       "        text-align: right;\n",
       "    }\n",
       "\n",
       "    .dataframe thead th {\n",
       "        text-align: left;\n",
       "    }\n",
       "\n",
       "    .dataframe tbody tr th {\n",
       "        vertical-align: top;\n",
       "    }\n",
       "</style>\n",
       "<table border=\"1\" class=\"dataframe\">\n",
       "  <thead>\n",
       "    <tr style=\"text-align: right;\">\n",
       "      <th></th>\n",
       "      <th></th>\n",
       "      <th>mean</th>\n",
       "      <th>median</th>\n",
       "    </tr>\n",
       "    <tr>\n",
       "      <th>Fabric-type</th>\n",
       "      <th>Weight (g)</th>\n",
       "      <th></th>\n",
       "      <th></th>\n",
       "    </tr>\n",
       "  </thead>\n",
       "  <tbody>\n",
       "    <tr>\n",
       "      <th rowspan=\"2\" valign=\"top\">Knitted</th>\n",
       "      <th>2</th>\n",
       "      <td>-20.500</td>\n",
       "      <td>-18.2</td>\n",
       "    </tr>\n",
       "    <tr>\n",
       "      <th>3</th>\n",
       "      <td>-19.500</td>\n",
       "      <td>-19.5</td>\n",
       "    </tr>\n",
       "    <tr>\n",
       "      <th rowspan=\"3\" valign=\"top\">Woven</th>\n",
       "      <th>0</th>\n",
       "      <td>-29.875</td>\n",
       "      <td>-32.0</td>\n",
       "    </tr>\n",
       "    <tr>\n",
       "      <th>1</th>\n",
       "      <td>-14.620</td>\n",
       "      <td>-13.2</td>\n",
       "    </tr>\n",
       "    <tr>\n",
       "      <th>2</th>\n",
       "      <td>-21.000</td>\n",
       "      <td>-21.0</td>\n",
       "    </tr>\n",
       "  </tbody>\n",
       "</table>\n",
       "</div>"
      ],
      "text/plain": [
       "                          mean  median\n",
       "Fabric-type Weight (g)                \n",
       "Knitted     2          -20.500   -18.2\n",
       "            3          -19.500   -19.5\n",
       "Woven       0          -29.875   -32.0\n",
       "            1          -14.620   -13.2\n",
       "            2          -21.000   -21.0"
      ]
     },
     "execution_count": 29,
     "metadata": {},
     "output_type": "execute_result"
    }
   ],
   "source": [
    "grouped3= df_shrink_mean.groupby(['Fabric-type', 'Weight (g)'])\n",
    "df_type= grouped3['mean shrinkage'].agg(['mean', 'median'])\n",
    "df_type"
   ]
  },
  {
   "cell_type": "code",
   "execution_count": 30,
   "metadata": {},
   "outputs": [
    {
     "data": {
      "text/html": [
       "<div>\n",
       "<style>\n",
       "    .dataframe thead tr:only-child th {\n",
       "        text-align: right;\n",
       "    }\n",
       "\n",
       "    .dataframe thead th {\n",
       "        text-align: left;\n",
       "    }\n",
       "\n",
       "    .dataframe tbody tr th {\n",
       "        vertical-align: top;\n",
       "    }\n",
       "</style>\n",
       "<table border=\"1\" class=\"dataframe\">\n",
       "  <thead>\n",
       "    <tr style=\"text-align: right;\">\n",
       "      <th></th>\n",
       "      <th>Fabric</th>\n",
       "      <th>Fabric-type</th>\n",
       "      <th>% shrinkage thin rvd</th>\n",
       "      <th>% shrinkage thin 90</th>\n",
       "      <th>Weight (g)</th>\n",
       "      <th>Weight</th>\n",
       "      <th>mean shrinkage %</th>\n",
       "    </tr>\n",
       "  </thead>\n",
       "  <tbody>\n",
       "    <tr>\n",
       "      <th>0</th>\n",
       "      <td>Purple</td>\n",
       "      <td>Knitted</td>\n",
       "      <td>-19.0</td>\n",
       "      <td>-21.0</td>\n",
       "      <td>2</td>\n",
       "      <td>heavy</td>\n",
       "      <td>-20.00</td>\n",
       "    </tr>\n",
       "    <tr>\n",
       "      <th>1</th>\n",
       "      <td>Brown/beige</td>\n",
       "      <td>Knitted</td>\n",
       "      <td>-11.0</td>\n",
       "      <td>-8.0</td>\n",
       "      <td>2</td>\n",
       "      <td>medium</td>\n",
       "      <td>-9.50</td>\n",
       "    </tr>\n",
       "    <tr>\n",
       "      <th>2</th>\n",
       "      <td>Dark blue &amp; brown</td>\n",
       "      <td>Knitted</td>\n",
       "      <td>-10.0</td>\n",
       "      <td>-10.0</td>\n",
       "      <td>2</td>\n",
       "      <td>medium</td>\n",
       "      <td>-10.00</td>\n",
       "    </tr>\n",
       "    <tr>\n",
       "      <th>3</th>\n",
       "      <td>Dark blue</td>\n",
       "      <td>Knitted</td>\n",
       "      <td>-17.1</td>\n",
       "      <td>-16.0</td>\n",
       "      <td>2</td>\n",
       "      <td>heavy</td>\n",
       "      <td>-16.55</td>\n",
       "    </tr>\n",
       "    <tr>\n",
       "      <th>4</th>\n",
       "      <td>Dark blue &amp; black</td>\n",
       "      <td>Knitted</td>\n",
       "      <td>-29.5</td>\n",
       "      <td>-25.0</td>\n",
       "      <td>2</td>\n",
       "      <td>light</td>\n",
       "      <td>-27.25</td>\n",
       "    </tr>\n",
       "  </tbody>\n",
       "</table>\n",
       "</div>"
      ],
      "text/plain": [
       "              Fabric Fabric-type  % shrinkage thin rvd  % shrinkage thin 90  \\\n",
       "0             Purple     Knitted                 -19.0                -21.0   \n",
       "1        Brown/beige     Knitted                 -11.0                 -8.0   \n",
       "2  Dark blue & brown     Knitted                 -10.0                -10.0   \n",
       "3          Dark blue     Knitted                 -17.1                -16.0   \n",
       "4  Dark blue & black     Knitted                 -29.5                -25.0   \n",
       "\n",
       "   Weight (g)  Weight  mean shrinkage %  \n",
       "0           2   heavy            -20.00  \n",
       "1           2  medium             -9.50  \n",
       "2           2  medium            -10.00  \n",
       "3           2   heavy            -16.55  \n",
       "4           2   light            -27.25  "
      ]
     },
     "execution_count": 30,
     "metadata": {},
     "output_type": "execute_result"
    }
   ],
   "source": [
    "df_shrink_thin['mean shrinkage %']= (df_shrink_thin['% shrinkage thin rvd'] +df_shrink_thin['% shrinkage thin 90'] )/2\n",
    "df_shrink_thin.head()"
   ]
  },
  {
   "cell_type": "code",
   "execution_count": 31,
   "metadata": {},
   "outputs": [
    {
     "data": {
      "text/html": [
       "<div>\n",
       "<style>\n",
       "    .dataframe thead tr:only-child th {\n",
       "        text-align: right;\n",
       "    }\n",
       "\n",
       "    .dataframe thead th {\n",
       "        text-align: left;\n",
       "    }\n",
       "\n",
       "    .dataframe tbody tr th {\n",
       "        vertical-align: top;\n",
       "    }\n",
       "</style>\n",
       "<table border=\"1\" class=\"dataframe\">\n",
       "  <thead>\n",
       "    <tr style=\"text-align: right;\">\n",
       "      <th></th>\n",
       "      <th>Fabric</th>\n",
       "      <th>Fabric-type</th>\n",
       "      <th>% shrinkage thick rvd</th>\n",
       "      <th>% shrinkage thick 90</th>\n",
       "      <th>Weight (g)</th>\n",
       "      <th>Weight</th>\n",
       "      <th>mean shrinkage %</th>\n",
       "    </tr>\n",
       "  </thead>\n",
       "  <tbody>\n",
       "    <tr>\n",
       "      <th>0</th>\n",
       "      <td>Purple</td>\n",
       "      <td>Knitted</td>\n",
       "      <td>-25.0</td>\n",
       "      <td>-20.0</td>\n",
       "      <td>2</td>\n",
       "      <td>heavy</td>\n",
       "      <td>-22.5</td>\n",
       "    </tr>\n",
       "    <tr>\n",
       "      <th>1</th>\n",
       "      <td>Brown/beige</td>\n",
       "      <td>Knitted</td>\n",
       "      <td>-15.0</td>\n",
       "      <td>-14.4</td>\n",
       "      <td>2</td>\n",
       "      <td>medium</td>\n",
       "      <td>-14.7</td>\n",
       "    </tr>\n",
       "  </tbody>\n",
       "</table>\n",
       "</div>"
      ],
      "text/plain": [
       "        Fabric Fabric-type  % shrinkage thick rvd  % shrinkage thick 90  \\\n",
       "0       Purple     Knitted                  -25.0                 -20.0   \n",
       "1  Brown/beige     Knitted                  -15.0                 -14.4   \n",
       "\n",
       "   Weight (g)  Weight  mean shrinkage %  \n",
       "0           2   heavy             -22.5  \n",
       "1           2  medium             -14.7  "
      ]
     },
     "execution_count": 31,
     "metadata": {},
     "output_type": "execute_result"
    }
   ],
   "source": [
    "df_shrink_thick['mean shrinkage %']= (df_shrink_thick['% shrinkage thick rvd'] +df_shrink_thick['% shrinkage thick 90'] )/2\n",
    "df_shrink_thick.head(2)"
   ]
  },
  {
   "cell_type": "code",
   "execution_count": 32,
   "metadata": {},
   "outputs": [
    {
     "data": {
      "text/plain": [
       "(2.120549838786979, 0.042339369991911818, 30.0)"
      ]
     },
     "execution_count": 32,
     "metadata": {},
     "output_type": "execute_result"
    }
   ],
   "source": [
    "d_thin = sm.stats.DescrStatsW(df_shrink_thin['mean shrinkage %'])\n",
    "d_thick = sm.stats.DescrStatsW(df_shrink_thick['mean shrinkage %'])\n",
    "cm = sm.stats.CompareMeans(d_thin, d_thick)\n",
    "ttest2 = cm.ttest_ind(alternative='two-sided')\n",
    "ttest2"
   ]
  },
  {
   "cell_type": "code",
   "execution_count": 53,
   "metadata": {},
   "outputs": [
    {
     "data": {
      "text/plain": [
       "(0.17572947896322597, 0.31336649556489338, 1.0)"
      ]
     },
     "execution_count": 53,
     "metadata": {},
     "output_type": "execute_result"
    }
   ],
   "source": [
    "d_light= sm.stats.DescrStatsW(df_shrink_thin[df_shrink_thin['Weight (g)']==1]['mean shrinkage %'])\n",
    "d_medium= sm.stats.DescrStatsW(df_shrink_thin[df_shrink_thin['Weight (g)']==2]['mean shrinkage %'])\n",
    "d_heavy= sm.stats.DescrStatsW(df_shrink_thin[df_shrink_thin['Weight (g)']==3]['mean shrinkage %'])\n",
    "cm2 = sm.stats.CompareMeans(d_light, d_medium)\n",
    "cm3= sm.stats.CompareMeans(d_light, d_heavy)\n",
    "cm4 = sm.stats.CompareMeans(d_medium, d_medium)\n",
    "ttest2_1 = cm2.ttest_ind(alternative='two-sided')\n",
    "ttest2_2 = cm3.ttest_ind(alternative='two-sided')\n",
    "ttest2_3 = cm4.ttest_ind(alternative='two-sided')\n",
    "ttest2_1[1], ttest2_2[1], ttest2_3[1]"
   ]
  },
  {
   "cell_type": "markdown",
   "metadata": {},
   "source": [
    "## Statistics\n",
    "\n",
    "Using a regression plot and clusters to see if there is correlation between the weight in grams and the mean shrinkage"
   ]
  },
  {
   "cell_type": "code",
   "execution_count": 33,
   "metadata": {
    "collapsed": true
   },
   "outputs": [],
   "source": [
    "X_reg= df_shrink_thin[['Weight (g)']].copy()\n",
    "y_reg= df_shrink_thin[['mean shrinkage %']].copy()"
   ]
  },
  {
   "cell_type": "code",
   "execution_count": 34,
   "metadata": {
    "collapsed": true
   },
   "outputs": [],
   "source": [
    "reg = LinearRegression()"
   ]
  },
  {
   "cell_type": "code",
   "execution_count": 35,
   "metadata": {},
   "outputs": [
    {
     "data": {
      "text/plain": [
       "(array([[ 3.81442308]]), array([-22.70240385]))"
      ]
     },
     "execution_count": 35,
     "metadata": {},
     "output_type": "execute_result"
    }
   ],
   "source": [
    "reg.fit(X_reg, y_reg);\n",
    "coef = reg.coef_\n",
    "intercept = reg.intercept_\n",
    "coef, intercept"
   ]
  },
  {
   "cell_type": "code",
   "execution_count": 36,
   "metadata": {},
   "outputs": [
    {
     "name": "stdout",
     "output_type": "stream",
     "text": [
      "                            OLS Regression Results                            \n",
      "==============================================================================\n",
      "Dep. Variable:       mean shrinkage %   R-squared:                       0.217\n",
      "Model:                            OLS   Adj. R-squared:                  0.161\n",
      "Method:                 Least Squares   F-statistic:                     3.887\n",
      "Date:                Thu, 04 Jun 2020   Prob (F-statistic):             0.0687\n",
      "Time:                        09:45:02   Log-Likelihood:                -52.713\n",
      "No. Observations:                  16   AIC:                             109.4\n",
      "Df Residuals:                      14   BIC:                             111.0\n",
      "Df Model:                           1                                         \n",
      "Covariance Type:            nonrobust                                         \n",
      "==============================================================================\n",
      "                 coef    std err          t      P>|t|      [0.025      0.975]\n",
      "------------------------------------------------------------------------------\n",
      "const        -22.7024      2.982     -7.614      0.000     -29.097     -16.308\n",
      "Weight (g)     3.8144      1.935      1.972      0.069      -0.335       7.964\n",
      "==============================================================================\n",
      "Omnibus:                        2.680   Durbin-Watson:                   2.452\n",
      "Prob(Omnibus):                  0.262   Jarque-Bera (JB):                1.228\n",
      "Skew:                          -0.268   Prob(JB):                        0.541\n",
      "Kurtosis:                       1.753   Cond. No.                         3.45\n",
      "==============================================================================\n",
      "\n",
      "Warnings:\n",
      "[1] Standard Errors assume that the covariance matrix of the errors is correctly specified.\n"
     ]
    }
   ],
   "source": [
    "X2 = sm.add_constant(X_reg)\n",
    "est = sm.OLS(y_reg, X2)\n",
    "est2 = est.fit()\n",
    "print(est2.summary())"
   ]
  },
  {
   "cell_type": "code",
   "execution_count": 37,
   "metadata": {},
   "outputs": [
    {
     "data": {
      "image/png": "[encoded data removed]",
      "text/plain": [
       "<matplotlib.figure.Figure at 0x111e0594b38>"
      ]
     },
     "metadata": {},
     "output_type": "display_data"
    }
   ],
   "source": [
    "ax1= sns.regplot(X_reg['Weight (g)'], y_reg['mean shrinkage %'])\n",
    "ax1.set(xlabel='Weight/ 0.01 m2')\n",
    "ax1.set_title('Regression plot 3 w/v% alginate');\n"
   ]
  },
  {
   "cell_type": "markdown",
   "metadata": {},
   "source": [
    "This figure show an ascending line, which implies an increase in weight would result in less shrinkage. This corresponds with what was expected from the previous results. However, the uncertainty is quite large and the data points are not placed on the regression line."
   ]
  },
  {
   "cell_type": "code",
   "execution_count": 38,
   "metadata": {
    "collapsed": true
   },
   "outputs": [],
   "source": [
    "ax1.figure.savefig('dem_regplot_3wv.png', dpi=800)"
   ]
  },
  {
   "cell_type": "code",
   "execution_count": 39,
   "metadata": {},
   "outputs": [
    {
     "data": {
      "text/plain": [
       "(array([[ 2.47307692]]), array([-27.12884615]))"
      ]
     },
     "execution_count": 39,
     "metadata": {},
     "output_type": "execute_result"
    }
   ],
   "source": [
    "X_reg3= df_shrink_thick[['Weight (g)']].copy()\n",
    "y_reg3= df_shrink_thick[['mean shrinkage %']].copy()\n",
    "reg3 = LinearRegression()\n",
    "reg3.fit(X_reg3, y_reg3);\n",
    "coef3 = reg3.coef_\n",
    "intercept3 = reg3.intercept_\n",
    "coef3, intercept3"
   ]
  },
  {
   "cell_type": "code",
   "execution_count": 40,
   "metadata": {},
   "outputs": [
    {
     "name": "stdout",
     "output_type": "stream",
     "text": [
      "                            OLS Regression Results                            \n",
      "==============================================================================\n",
      "Dep. Variable:       mean shrinkage %   R-squared:                       0.071\n",
      "Model:                            OLS   Adj. R-squared:                  0.005\n",
      "Method:                 Least Squares   F-statistic:                     1.072\n",
      "Date:                Thu, 04 Jun 2020   Prob (F-statistic):              0.318\n",
      "Time:                        09:45:04   Log-Likelihood:                -56.084\n",
      "No. Observations:                  16   AIC:                             116.2\n",
      "Df Residuals:                      14   BIC:                             117.7\n",
      "Df Model:                           1                                         \n",
      "Covariance Type:            nonrobust                                         \n",
      "==============================================================================\n",
      "                 coef    std err          t      P>|t|      [0.025      0.975]\n",
      "------------------------------------------------------------------------------\n",
      "const        -27.1288      3.681     -7.371      0.000     -35.023     -19.235\n",
      "Weight (g)     2.4731      2.388      1.035      0.318      -2.649       7.595\n",
      "==============================================================================\n",
      "Omnibus:                        0.279   Durbin-Watson:                   2.544\n",
      "Prob(Omnibus):                  0.870   Jarque-Bera (JB):                0.263\n",
      "Skew:                          -0.243   Prob(JB):                        0.877\n",
      "Kurtosis:                       2.601   Cond. No.                         3.45\n",
      "==============================================================================\n",
      "\n",
      "Warnings:\n",
      "[1] Standard Errors assume that the covariance matrix of the errors is correctly specified.\n"
     ]
    }
   ],
   "source": [
    "X3 = sm.add_constant(X_reg3)\n",
    "est3 = sm.OLS(y_reg3, X3)\n",
    "est4 = est3.fit()\n",
    "print(est4.summary())"
   ]
  },
  {
   "cell_type": "code",
   "execution_count": 41,
   "metadata": {},
   "outputs": [
    {
     "data": {
      "image/png": "[encoded data removed]",
      "text/plain": [
       "<matplotlib.figure.Figure at 0x111e0551780>"
      ]
     },
     "metadata": {},
     "output_type": "display_data"
    }
   ],
   "source": [
    "ax2= sns.regplot(X_reg3['Weight (g)'], y_reg3['mean shrinkage %'])\n",
    "ax2.set(xlabel='Weight/ 0.01 m2')\n",
    "ax2.set_title('Regression plot 5 w/v% alginate');\n"
   ]
  },
  {
   "cell_type": "code",
   "execution_count": 42,
   "metadata": {
    "collapsed": true
   },
   "outputs": [],
   "source": [
    "ax2.figure.savefig('dem_regplot_5wv.png', dpi=800)"
   ]
  },
  {
   "cell_type": "code",
   "execution_count": null,
   "metadata": {
    "collapsed": true
   },
   "outputs": [],
   "source": []
  },
  {
   "cell_type": "code",
   "execution_count": 43,
   "metadata": {},
   "outputs": [
    {
     "data": {
      "text/plain": [
       "0.21731908261070923"
      ]
     },
     "execution_count": 43,
     "metadata": {},
     "output_type": "execute_result"
    }
   ],
   "source": [
    "R2 = reg.score(X_reg, y_reg)\n",
    "R2"
   ]
  },
  {
   "cell_type": "code",
   "execution_count": 56,
   "metadata": {},
   "outputs": [
    {
     "data": {
      "text/html": [
       "<div>\n",
       "<style>\n",
       "    .dataframe thead tr:only-child th {\n",
       "        text-align: right;\n",
       "    }\n",
       "\n",
       "    .dataframe thead th {\n",
       "        text-align: left;\n",
       "    }\n",
       "\n",
       "    .dataframe tbody tr th {\n",
       "        vertical-align: top;\n",
       "    }\n",
       "</style>\n",
       "<table border=\"1\" class=\"dataframe\">\n",
       "  <thead>\n",
       "    <tr style=\"text-align: right;\">\n",
       "      <th></th>\n",
       "      <th>Fabric</th>\n",
       "      <th>Fabric-type</th>\n",
       "      <th>mean shrinkage</th>\n",
       "      <th>Weight (g)</th>\n",
       "      <th>Weight</th>\n",
       "    </tr>\n",
       "  </thead>\n",
       "  <tbody>\n",
       "    <tr>\n",
       "      <th>0</th>\n",
       "      <td>Purple</td>\n",
       "      <td>Knitted</td>\n",
       "      <td>-21.2</td>\n",
       "      <td>2</td>\n",
       "      <td>heavy</td>\n",
       "    </tr>\n",
       "    <tr>\n",
       "      <th>1</th>\n",
       "      <td>Brown/beige</td>\n",
       "      <td>Knitted</td>\n",
       "      <td>-12.1</td>\n",
       "      <td>2</td>\n",
       "      <td>medium</td>\n",
       "    </tr>\n",
       "    <tr>\n",
       "      <th>2</th>\n",
       "      <td>Dark blue &amp; brown</td>\n",
       "      <td>Knitted</td>\n",
       "      <td>-17.4</td>\n",
       "      <td>2</td>\n",
       "      <td>medium</td>\n",
       "    </tr>\n",
       "    <tr>\n",
       "      <th>3</th>\n",
       "      <td>Dark blue</td>\n",
       "      <td>Knitted</td>\n",
       "      <td>-18.2</td>\n",
       "      <td>2</td>\n",
       "      <td>heavy</td>\n",
       "    </tr>\n",
       "    <tr>\n",
       "      <th>4</th>\n",
       "      <td>Dark blue &amp; black</td>\n",
       "      <td>Knitted</td>\n",
       "      <td>-33.6</td>\n",
       "      <td>2</td>\n",
       "      <td>light</td>\n",
       "    </tr>\n",
       "  </tbody>\n",
       "</table>\n",
       "</div>"
      ],
      "text/plain": [
       "              Fabric Fabric-type  mean shrinkage  Weight (g)  Weight\n",
       "0             Purple     Knitted           -21.2           2   heavy\n",
       "1        Brown/beige     Knitted           -12.1           2  medium\n",
       "2  Dark blue & brown     Knitted           -17.4           2  medium\n",
       "3          Dark blue     Knitted           -18.2           2   heavy\n",
       "4  Dark blue & black     Knitted           -33.6           2   light"
      ]
     },
     "execution_count": 56,
     "metadata": {},
     "output_type": "execute_result"
    }
   ],
   "source": [
    "df_shrink_mean.head()\n"
   ]
  },
  {
   "cell_type": "code",
   "execution_count": 62,
   "metadata": {},
   "outputs": [
    {
     "data": {
      "text/html": [
       "<div>\n",
       "<style>\n",
       "    .dataframe thead tr:only-child th {\n",
       "        text-align: right;\n",
       "    }\n",
       "\n",
       "    .dataframe thead th {\n",
       "        text-align: left;\n",
       "    }\n",
       "\n",
       "    .dataframe tbody tr th {\n",
       "        vertical-align: top;\n",
       "    }\n",
       "</style>\n",
       "<table border=\"1\" class=\"dataframe\">\n",
       "  <thead>\n",
       "    <tr style=\"text-align: right;\">\n",
       "      <th></th>\n",
       "      <th>Weight (g)</th>\n",
       "      <th>mean shrinkage</th>\n",
       "      <th>cluster</th>\n",
       "      <th>Weight</th>\n",
       "    </tr>\n",
       "  </thead>\n",
       "  <tbody>\n",
       "    <tr>\n",
       "      <th>0</th>\n",
       "      <td>2</td>\n",
       "      <td>-21.2</td>\n",
       "      <td>0</td>\n",
       "      <td>heavy</td>\n",
       "    </tr>\n",
       "    <tr>\n",
       "      <th>1</th>\n",
       "      <td>2</td>\n",
       "      <td>-12.1</td>\n",
       "      <td>0</td>\n",
       "      <td>medium</td>\n",
       "    </tr>\n",
       "    <tr>\n",
       "      <th>2</th>\n",
       "      <td>2</td>\n",
       "      <td>-17.4</td>\n",
       "      <td>0</td>\n",
       "      <td>medium</td>\n",
       "    </tr>\n",
       "    <tr>\n",
       "      <th>3</th>\n",
       "      <td>2</td>\n",
       "      <td>-18.2</td>\n",
       "      <td>0</td>\n",
       "      <td>heavy</td>\n",
       "    </tr>\n",
       "    <tr>\n",
       "      <th>4</th>\n",
       "      <td>2</td>\n",
       "      <td>-33.6</td>\n",
       "      <td>1</td>\n",
       "      <td>light</td>\n",
       "    </tr>\n",
       "  </tbody>\n",
       "</table>\n",
       "</div>"
      ],
      "text/plain": [
       "   Weight (g)  mean shrinkage  cluster  Weight\n",
       "0           2           -21.2        0   heavy\n",
       "1           2           -12.1        0  medium\n",
       "2           2           -17.4        0  medium\n",
       "3           2           -18.2        0   heavy\n",
       "4           2           -33.6        1   light"
      ]
     },
     "execution_count": 62,
     "metadata": {},
     "output_type": "execute_result"
    }
   ],
   "source": [
    "X_2= df_shrink_mean[['Weight (g)', 'mean shrinkage']].copy()\n",
    "km_2= KMeans(n_clusters=2)\n",
    "km_2.fit(X_2)\n",
    "\n",
    "centers_2 = pd.DataFrame(km_2.cluster_centers_, columns=df_shrink_mean[['Weight (g)', 'mean shrinkage']].columns)\n",
    "\n",
    "X_2['cluster'] = km_2.labels_\n",
    "X_2['Weight']= df_shrink_mean['Weight']\n",
    "X_2.head()"
   ]
  },
  {
   "cell_type": "code",
   "execution_count": 66,
   "metadata": {},
   "outputs": [
    {
     "ename": "TypeError",
     "evalue": "You must first set_array for mappable",
     "output_type": "error",
     "traceback": [
      "\u001b[1;31m---------------------------------------------------------------------------\u001b[0m",
      "\u001b[1;31mTypeError\u001b[0m                                 Traceback (most recent call last)",
      "\u001b[1;32m<ipython-input-66-d53a3b291e7c>\u001b[0m in \u001b[0;36m<module>\u001b[1;34m()\u001b[0m\n\u001b[0;32m      3\u001b[0m \u001b[1;31m#color=[ color_dict[i] for i in data['c']\u001b[0m\u001b[1;33m\u001b[0m\u001b[1;33m\u001b[0m\u001b[0m\n\u001b[0;32m      4\u001b[0m \u001b[0max\u001b[0m \u001b[1;33m=\u001b[0m \u001b[0mX_2\u001b[0m\u001b[1;33m.\u001b[0m\u001b[0mplot\u001b[0m\u001b[1;33m(\u001b[0m\u001b[0mkind\u001b[0m\u001b[1;33m=\u001b[0m\u001b[1;34m'scatter'\u001b[0m\u001b[1;33m,\u001b[0m \u001b[0mx\u001b[0m\u001b[1;33m=\u001b[0m\u001b[1;34m'Weight (g)'\u001b[0m\u001b[1;33m,\u001b[0m \u001b[0my\u001b[0m\u001b[1;33m=\u001b[0m\u001b[1;34m'mean shrinkage'\u001b[0m\u001b[1;33m,\u001b[0m \u001b[0ms\u001b[0m\u001b[1;33m=\u001b[0m\u001b[1;36m50\u001b[0m\u001b[1;33m,\u001b[0m \u001b[0mc\u001b[0m\u001b[1;33m=\u001b[0m \u001b[1;33m[\u001b[0m\u001b[0mcolor_dict\u001b[0m\u001b[1;33m[\u001b[0m\u001b[0mi\u001b[0m\u001b[1;33m]\u001b[0m \u001b[1;32mfor\u001b[0m \u001b[0mi\u001b[0m \u001b[1;32min\u001b[0m \u001b[0mX_2\u001b[0m\u001b[1;33m[\u001b[0m\u001b[1;34m'Weight'\u001b[0m\u001b[1;33m]\u001b[0m\u001b[1;33m]\u001b[0m\u001b[1;33m,\u001b[0m \u001b[0msharex\u001b[0m\u001b[1;33m=\u001b[0m\u001b[1;32mFalse\u001b[0m\u001b[1;33m,\u001b[0m \u001b[0mcmap\u001b[0m\u001b[1;33m=\u001b[0m\u001b[0mcmap\u001b[0m\u001b[1;33m,\u001b[0m \u001b[0mcolorbar\u001b[0m\u001b[1;33m=\u001b[0m\u001b[1;32mFalse\u001b[0m\u001b[1;33m)\u001b[0m\u001b[1;33m\u001b[0m\u001b[0m\n\u001b[1;32m----> 5\u001b[1;33m \u001b[0mcenters_2\u001b[0m\u001b[1;33m.\u001b[0m\u001b[0mplot\u001b[0m\u001b[1;33m(\u001b[0m\u001b[0mkind\u001b[0m\u001b[1;33m=\u001b[0m\u001b[1;34m'scatter'\u001b[0m\u001b[1;33m,\u001b[0m \u001b[0mx\u001b[0m\u001b[1;33m=\u001b[0m\u001b[1;34m'Weight (g)'\u001b[0m\u001b[1;33m,\u001b[0m \u001b[0my\u001b[0m\u001b[1;33m=\u001b[0m\u001b[1;34m'mean shrinkage'\u001b[0m\u001b[1;33m,\u001b[0m \u001b[0mmarker\u001b[0m\u001b[1;33m=\u001b[0m\u001b[1;34m'x'\u001b[0m\u001b[1;33m,\u001b[0m \u001b[0ms\u001b[0m\u001b[1;33m=\u001b[0m\u001b[1;36m100\u001b[0m\u001b[1;33m,\u001b[0m \u001b[0mc\u001b[0m\u001b[1;33m=\u001b[0m\u001b[0mcenters_2\u001b[0m\u001b[1;33m.\u001b[0m\u001b[0mindex\u001b[0m\u001b[1;33m,\u001b[0m \u001b[0mcmap\u001b[0m\u001b[1;33m=\u001b[0m\u001b[0mcmap\u001b[0m\u001b[1;33m,\u001b[0m \u001b[0max\u001b[0m\u001b[1;33m=\u001b[0m\u001b[0max\u001b[0m\u001b[1;33m)\u001b[0m\u001b[1;33m\u001b[0m\u001b[0m\n\u001b[0m\u001b[0;32m      6\u001b[0m \u001b[0mplt\u001b[0m\u001b[1;33m.\u001b[0m\u001b[0mtitle\u001b[0m\u001b[1;33m(\u001b[0m\u001b[1;34m'2 Clusters'\u001b[0m\u001b[1;33m)\u001b[0m\u001b[1;33m\u001b[0m\u001b[0m\n\u001b[0;32m      7\u001b[0m \u001b[0mcmap\u001b[0m\u001b[1;33m\u001b[0m\u001b[0m\n",
      "\u001b[1;32mC:\\ProgramData\\Anaconda3\\lib\\site-packages\\pandas\\plotting\\_core.py\u001b[0m in \u001b[0;36m__call__\u001b[1;34m(self, x, y, kind, ax, subplots, sharex, sharey, layout, figsize, use_index, title, grid, legend, style, logx, logy, loglog, xticks, yticks, xlim, ylim, rot, fontsize, colormap, table, yerr, xerr, secondary_y, sort_columns, **kwds)\u001b[0m\n\u001b[0;32m   2618\u001b[0m                           \u001b[0mfontsize\u001b[0m\u001b[1;33m=\u001b[0m\u001b[0mfontsize\u001b[0m\u001b[1;33m,\u001b[0m \u001b[0mcolormap\u001b[0m\u001b[1;33m=\u001b[0m\u001b[0mcolormap\u001b[0m\u001b[1;33m,\u001b[0m \u001b[0mtable\u001b[0m\u001b[1;33m=\u001b[0m\u001b[0mtable\u001b[0m\u001b[1;33m,\u001b[0m\u001b[1;33m\u001b[0m\u001b[0m\n\u001b[0;32m   2619\u001b[0m                           \u001b[0myerr\u001b[0m\u001b[1;33m=\u001b[0m\u001b[0myerr\u001b[0m\u001b[1;33m,\u001b[0m \u001b[0mxerr\u001b[0m\u001b[1;33m=\u001b[0m\u001b[0mxerr\u001b[0m\u001b[1;33m,\u001b[0m \u001b[0msecondary_y\u001b[0m\u001b[1;33m=\u001b[0m\u001b[0msecondary_y\u001b[0m\u001b[1;33m,\u001b[0m\u001b[1;33m\u001b[0m\u001b[0m\n\u001b[1;32m-> 2620\u001b[1;33m                           sort_columns=sort_columns, **kwds)\n\u001b[0m\u001b[0;32m   2621\u001b[0m     \u001b[0m__call__\u001b[0m\u001b[1;33m.\u001b[0m\u001b[0m__doc__\u001b[0m \u001b[1;33m=\u001b[0m \u001b[0mplot_frame\u001b[0m\u001b[1;33m.\u001b[0m\u001b[0m__doc__\u001b[0m\u001b[1;33m\u001b[0m\u001b[0m\n\u001b[0;32m   2622\u001b[0m \u001b[1;33m\u001b[0m\u001b[0m\n",
      "\u001b[1;32mC:\\ProgramData\\Anaconda3\\lib\\site-packages\\pandas\\plotting\\_core.py\u001b[0m in \u001b[0;36mplot_frame\u001b[1;34m(data, x, y, kind, ax, subplots, sharex, sharey, layout, figsize, use_index, title, grid, legend, style, logx, logy, loglog, xticks, yticks, xlim, ylim, rot, fontsize, colormap, table, yerr, xerr, secondary_y, sort_columns, **kwds)\u001b[0m\n\u001b[0;32m   1855\u001b[0m                  \u001b[0myerr\u001b[0m\u001b[1;33m=\u001b[0m\u001b[0myerr\u001b[0m\u001b[1;33m,\u001b[0m \u001b[0mxerr\u001b[0m\u001b[1;33m=\u001b[0m\u001b[0mxerr\u001b[0m\u001b[1;33m,\u001b[0m\u001b[1;33m\u001b[0m\u001b[0m\n\u001b[0;32m   1856\u001b[0m                  \u001b[0msecondary_y\u001b[0m\u001b[1;33m=\u001b[0m\u001b[0msecondary_y\u001b[0m\u001b[1;33m,\u001b[0m \u001b[0msort_columns\u001b[0m\u001b[1;33m=\u001b[0m\u001b[0msort_columns\u001b[0m\u001b[1;33m,\u001b[0m\u001b[1;33m\u001b[0m\u001b[0m\n\u001b[1;32m-> 1857\u001b[1;33m                  **kwds)\n\u001b[0m\u001b[0;32m   1858\u001b[0m \u001b[1;33m\u001b[0m\u001b[0m\n\u001b[0;32m   1859\u001b[0m \u001b[1;33m\u001b[0m\u001b[0m\n",
      "\u001b[1;32mC:\\ProgramData\\Anaconda3\\lib\\site-packages\\pandas\\plotting\\_core.py\u001b[0m in \u001b[0;36m_plot\u001b[1;34m(data, x, y, subplots, ax, kind, **kwds)\u001b[0m\n\u001b[0;32m   1680\u001b[0m         \u001b[0mplot_obj\u001b[0m \u001b[1;33m=\u001b[0m \u001b[0mklass\u001b[0m\u001b[1;33m(\u001b[0m\u001b[0mdata\u001b[0m\u001b[1;33m,\u001b[0m \u001b[0msubplots\u001b[0m\u001b[1;33m=\u001b[0m\u001b[0msubplots\u001b[0m\u001b[1;33m,\u001b[0m \u001b[0max\u001b[0m\u001b[1;33m=\u001b[0m\u001b[0max\u001b[0m\u001b[1;33m,\u001b[0m \u001b[0mkind\u001b[0m\u001b[1;33m=\u001b[0m\u001b[0mkind\u001b[0m\u001b[1;33m,\u001b[0m \u001b[1;33m**\u001b[0m\u001b[0mkwds\u001b[0m\u001b[1;33m)\u001b[0m\u001b[1;33m\u001b[0m\u001b[0m\n\u001b[0;32m   1681\u001b[0m \u001b[1;33m\u001b[0m\u001b[0m\n\u001b[1;32m-> 1682\u001b[1;33m     \u001b[0mplot_obj\u001b[0m\u001b[1;33m.\u001b[0m\u001b[0mgenerate\u001b[0m\u001b[1;33m(\u001b[0m\u001b[1;33m)\u001b[0m\u001b[1;33m\u001b[0m\u001b[0m\n\u001b[0m\u001b[0;32m   1683\u001b[0m     \u001b[0mplot_obj\u001b[0m\u001b[1;33m.\u001b[0m\u001b[0mdraw\u001b[0m\u001b[1;33m(\u001b[0m\u001b[1;33m)\u001b[0m\u001b[1;33m\u001b[0m\u001b[0m\n\u001b[0;32m   1684\u001b[0m     \u001b[1;32mreturn\u001b[0m \u001b[0mplot_obj\u001b[0m\u001b[1;33m.\u001b[0m\u001b[0mresult\u001b[0m\u001b[1;33m\u001b[0m\u001b[0m\n",
      "\u001b[1;32mC:\\ProgramData\\Anaconda3\\lib\\site-packages\\pandas\\plotting\\_core.py\u001b[0m in \u001b[0;36mgenerate\u001b[1;34m(self)\u001b[0m\n\u001b[0;32m    236\u001b[0m         \u001b[0mself\u001b[0m\u001b[1;33m.\u001b[0m\u001b[0m_compute_plot_data\u001b[0m\u001b[1;33m(\u001b[0m\u001b[1;33m)\u001b[0m\u001b[1;33m\u001b[0m\u001b[0m\n\u001b[0;32m    237\u001b[0m         \u001b[0mself\u001b[0m\u001b[1;33m.\u001b[0m\u001b[0m_setup_subplots\u001b[0m\u001b[1;33m(\u001b[0m\u001b[1;33m)\u001b[0m\u001b[1;33m\u001b[0m\u001b[0m\n\u001b[1;32m--> 238\u001b[1;33m         \u001b[0mself\u001b[0m\u001b[1;33m.\u001b[0m\u001b[0m_make_plot\u001b[0m\u001b[1;33m(\u001b[0m\u001b[1;33m)\u001b[0m\u001b[1;33m\u001b[0m\u001b[0m\n\u001b[0m\u001b[0;32m    239\u001b[0m         \u001b[0mself\u001b[0m\u001b[1;33m.\u001b[0m\u001b[0m_add_table\u001b[0m\u001b[1;33m(\u001b[0m\u001b[1;33m)\u001b[0m\u001b[1;33m\u001b[0m\u001b[0m\n\u001b[0;32m    240\u001b[0m         \u001b[0mself\u001b[0m\u001b[1;33m.\u001b[0m\u001b[0m_make_legend\u001b[0m\u001b[1;33m(\u001b[0m\u001b[1;33m)\u001b[0m\u001b[1;33m\u001b[0m\u001b[0m\n",
      "\u001b[1;32mC:\\ProgramData\\Anaconda3\\lib\\site-packages\\pandas\\plotting\\_core.py\u001b[0m in \u001b[0;36m_make_plot\u001b[1;34m(self)\u001b[0m\n\u001b[0;32m    836\u001b[0m             \u001b[1;32mif\u001b[0m \u001b[0mself\u001b[0m\u001b[1;33m.\u001b[0m\u001b[0mmpl_ge_1_3_1\u001b[0m\u001b[1;33m(\u001b[0m\u001b[1;33m)\u001b[0m\u001b[1;33m:\u001b[0m\u001b[1;33m\u001b[0m\u001b[0m\n\u001b[0;32m    837\u001b[0m                 \u001b[0mkws\u001b[0m\u001b[1;33m[\u001b[0m\u001b[1;34m'label'\u001b[0m\u001b[1;33m]\u001b[0m \u001b[1;33m=\u001b[0m \u001b[0mc\u001b[0m \u001b[1;32mif\u001b[0m \u001b[0mc_is_column\u001b[0m \u001b[1;32melse\u001b[0m \u001b[1;34m''\u001b[0m\u001b[1;33m\u001b[0m\u001b[0m\n\u001b[1;32m--> 838\u001b[1;33m             \u001b[0mself\u001b[0m\u001b[1;33m.\u001b[0m\u001b[0mfig\u001b[0m\u001b[1;33m.\u001b[0m\u001b[0mcolorbar\u001b[0m\u001b[1;33m(\u001b[0m\u001b[0mimg\u001b[0m\u001b[1;33m,\u001b[0m \u001b[1;33m**\u001b[0m\u001b[0mkws\u001b[0m\u001b[1;33m)\u001b[0m\u001b[1;33m\u001b[0m\u001b[0m\n\u001b[0m\u001b[0;32m    839\u001b[0m \u001b[1;33m\u001b[0m\u001b[0m\n\u001b[0;32m    840\u001b[0m         \u001b[1;32mif\u001b[0m \u001b[0mlabel\u001b[0m \u001b[1;32mis\u001b[0m \u001b[1;32mnot\u001b[0m \u001b[1;32mNone\u001b[0m\u001b[1;33m:\u001b[0m\u001b[1;33m\u001b[0m\u001b[0m\n",
      "\u001b[1;32mC:\\ProgramData\\Anaconda3\\lib\\site-packages\\matplotlib\\figure.py\u001b[0m in \u001b[0;36mcolorbar\u001b[1;34m(self, mappable, cax, ax, use_gridspec, **kw)\u001b[0m\n\u001b[0;32m   1601\u001b[0m                 \u001b[0mcax\u001b[0m\u001b[1;33m,\u001b[0m \u001b[0mkw\u001b[0m \u001b[1;33m=\u001b[0m \u001b[0mcbar\u001b[0m\u001b[1;33m.\u001b[0m\u001b[0mmake_axes\u001b[0m\u001b[1;33m(\u001b[0m\u001b[0max\u001b[0m\u001b[1;33m,\u001b[0m \u001b[1;33m**\u001b[0m\u001b[0mkw\u001b[0m\u001b[1;33m)\u001b[0m\u001b[1;33m\u001b[0m\u001b[0m\n\u001b[0;32m   1602\u001b[0m         \u001b[0mcax\u001b[0m\u001b[1;33m.\u001b[0m\u001b[0m_hold\u001b[0m \u001b[1;33m=\u001b[0m \u001b[1;32mTrue\u001b[0m\u001b[1;33m\u001b[0m\u001b[0m\n\u001b[1;32m-> 1603\u001b[1;33m         \u001b[0mcb\u001b[0m \u001b[1;33m=\u001b[0m \u001b[0mcbar\u001b[0m\u001b[1;33m.\u001b[0m\u001b[0mcolorbar_factory\u001b[0m\u001b[1;33m(\u001b[0m\u001b[0mcax\u001b[0m\u001b[1;33m,\u001b[0m \u001b[0mmappable\u001b[0m\u001b[1;33m,\u001b[0m \u001b[1;33m**\u001b[0m\u001b[0mkw\u001b[0m\u001b[1;33m)\u001b[0m\u001b[1;33m\u001b[0m\u001b[0m\n\u001b[0m\u001b[0;32m   1604\u001b[0m \u001b[1;33m\u001b[0m\u001b[0m\n\u001b[0;32m   1605\u001b[0m         \u001b[0mself\u001b[0m\u001b[1;33m.\u001b[0m\u001b[0msca\u001b[0m\u001b[1;33m(\u001b[0m\u001b[0mcurrent_ax\u001b[0m\u001b[1;33m)\u001b[0m\u001b[1;33m\u001b[0m\u001b[0m\n",
      "\u001b[1;32mC:\\ProgramData\\Anaconda3\\lib\\site-packages\\matplotlib\\colorbar.py\u001b[0m in \u001b[0;36mcolorbar_factory\u001b[1;34m(cax, mappable, **kwargs)\u001b[0m\n\u001b[0;32m   1345\u001b[0m         \u001b[0mcb\u001b[0m \u001b[1;33m=\u001b[0m \u001b[0mColorbarPatch\u001b[0m\u001b[1;33m(\u001b[0m\u001b[0mcax\u001b[0m\u001b[1;33m,\u001b[0m \u001b[0mmappable\u001b[0m\u001b[1;33m,\u001b[0m \u001b[1;33m**\u001b[0m\u001b[0mkwargs\u001b[0m\u001b[1;33m)\u001b[0m\u001b[1;33m\u001b[0m\u001b[0m\n\u001b[0;32m   1346\u001b[0m     \u001b[1;32melse\u001b[0m\u001b[1;33m:\u001b[0m\u001b[1;33m\u001b[0m\u001b[0m\n\u001b[1;32m-> 1347\u001b[1;33m         \u001b[0mcb\u001b[0m \u001b[1;33m=\u001b[0m \u001b[0mColorbar\u001b[0m\u001b[1;33m(\u001b[0m\u001b[0mcax\u001b[0m\u001b[1;33m,\u001b[0m \u001b[0mmappable\u001b[0m\u001b[1;33m,\u001b[0m \u001b[1;33m**\u001b[0m\u001b[0mkwargs\u001b[0m\u001b[1;33m)\u001b[0m\u001b[1;33m\u001b[0m\u001b[0m\n\u001b[0m\u001b[0;32m   1348\u001b[0m \u001b[1;33m\u001b[0m\u001b[0m\n\u001b[0;32m   1349\u001b[0m     \u001b[0mcid\u001b[0m \u001b[1;33m=\u001b[0m \u001b[0mmappable\u001b[0m\u001b[1;33m.\u001b[0m\u001b[0mcallbacksSM\u001b[0m\u001b[1;33m.\u001b[0m\u001b[0mconnect\u001b[0m\u001b[1;33m(\u001b[0m\u001b[1;34m'changed'\u001b[0m\u001b[1;33m,\u001b[0m \u001b[0mcb\u001b[0m\u001b[1;33m.\u001b[0m\u001b[0mon_mappable_changed\u001b[0m\u001b[1;33m)\u001b[0m\u001b[1;33m\u001b[0m\u001b[0m\n",
      "\u001b[1;32mC:\\ProgramData\\Anaconda3\\lib\\site-packages\\matplotlib\\colorbar.py\u001b[0m in \u001b[0;36m__init__\u001b[1;34m(self, ax, mappable, **kw)\u001b[0m\n\u001b[0;32m    899\u001b[0m         \u001b[1;31m# Ensure the given mappable's norm has appropriate vmin and vmax set\u001b[0m\u001b[1;33m\u001b[0m\u001b[1;33m\u001b[0m\u001b[0m\n\u001b[0;32m    900\u001b[0m         \u001b[1;31m# even if mappable.draw has not yet been called.\u001b[0m\u001b[1;33m\u001b[0m\u001b[1;33m\u001b[0m\u001b[0m\n\u001b[1;32m--> 901\u001b[1;33m         \u001b[0mmappable\u001b[0m\u001b[1;33m.\u001b[0m\u001b[0mautoscale_None\u001b[0m\u001b[1;33m(\u001b[0m\u001b[1;33m)\u001b[0m\u001b[1;33m\u001b[0m\u001b[0m\n\u001b[0m\u001b[0;32m    902\u001b[0m \u001b[1;33m\u001b[0m\u001b[0m\n\u001b[0;32m    903\u001b[0m         \u001b[0mself\u001b[0m\u001b[1;33m.\u001b[0m\u001b[0mmappable\u001b[0m \u001b[1;33m=\u001b[0m \u001b[0mmappable\u001b[0m\u001b[1;33m\u001b[0m\u001b[0m\n",
      "\u001b[1;32mC:\\ProgramData\\Anaconda3\\lib\\site-packages\\matplotlib\\cm.py\u001b[0m in \u001b[0;36mautoscale_None\u001b[1;34m(self)\u001b[0m\n\u001b[0;32m    342\u001b[0m         \"\"\"\n\u001b[0;32m    343\u001b[0m         \u001b[1;32mif\u001b[0m \u001b[0mself\u001b[0m\u001b[1;33m.\u001b[0m\u001b[0m_A\u001b[0m \u001b[1;32mis\u001b[0m \u001b[1;32mNone\u001b[0m\u001b[1;33m:\u001b[0m\u001b[1;33m\u001b[0m\u001b[0m\n\u001b[1;32m--> 344\u001b[1;33m             \u001b[1;32mraise\u001b[0m \u001b[0mTypeError\u001b[0m\u001b[1;33m(\u001b[0m\u001b[1;34m'You must first set_array for mappable'\u001b[0m\u001b[1;33m)\u001b[0m\u001b[1;33m\u001b[0m\u001b[0m\n\u001b[0m\u001b[0;32m    345\u001b[0m         \u001b[0mself\u001b[0m\u001b[1;33m.\u001b[0m\u001b[0mnorm\u001b[0m\u001b[1;33m.\u001b[0m\u001b[0mautoscale_None\u001b[0m\u001b[1;33m(\u001b[0m\u001b[0mself\u001b[0m\u001b[1;33m.\u001b[0m\u001b[0m_A\u001b[0m\u001b[1;33m)\u001b[0m\u001b[1;33m\u001b[0m\u001b[0m\n\u001b[0;32m    346\u001b[0m         \u001b[0mself\u001b[0m\u001b[1;33m.\u001b[0m\u001b[0mchanged\u001b[0m\u001b[1;33m(\u001b[0m\u001b[1;33m)\u001b[0m\u001b[1;33m\u001b[0m\u001b[0m\n",
      "\u001b[1;31mTypeError\u001b[0m: You must first set_array for mappable"
     ]
    },
    {
     "data": {
      "image/png": "[encoded data removed]",
      "text/plain": [
       "<matplotlib.figure.Figure at 0x111fe1e2f60>"
      ]
     },
     "metadata": {},
     "output_type": "display_data"
    }
   ],
   "source": [
    "#cmap= plt.get_cmap('gist_rainbow', lut=len(centers_2))  # color map with one color per cluster\n",
    "color_dict = {'light': 'blue', 'medium': 'green', 'heavy': 'red'}\n",
    "#color=[ color_dict[i] for i in data['c'] \n",
    "ax = X_2.plot(kind='scatter', x='Weight (g)', y='mean shrinkage', s=50, c= [color_dict[i] for i in X_2['Weight']], sharex=False, cmap=cmap, colorbar=False)\n",
    "centers_2.plot(kind='scatter', x='Weight (g)', y='mean shrinkage', marker='x', s=100, c=centers_2.index, cmap=cmap, ax=ax)\n",
    "plt.title('2 Clusters')\n",
    "cmap"
   ]
  },
  {
   "cell_type": "markdown",
   "metadata": {},
   "source": [
    "When using three clusters (corresponding to light, medium, heavy), it is clear that the green cluster is really different from the other data points (with one outlier at 2 gram). The other datapoints more in the top are harder to seperate. The center of the red cluster is also more to the left, which means that less shrinkage does not directly means a heavier fabric. "
   ]
  },
  {
   "cell_type": "code",
   "execution_count": 67,
   "metadata": {
    "collapsed": true
   },
   "outputs": [],
   "source": [
    "ax.figure.savefig(\"clusters_2_weights.png\", dpi=800)"
   ]
  },
  {
   "cell_type": "code",
   "execution_count": 47,
   "metadata": {},
   "outputs": [
    {
     "data": {
      "text/plain": [
       "191.15000000000003"
      ]
     },
     "execution_count": 47,
     "metadata": {},
     "output_type": "execute_result"
    }
   ],
   "source": [
    "inertia_2 = km_2.inertia_\n",
    "inertia_2"
   ]
  }
 ],
 "metadata": {
  "kernelspec": {
   "display_name": "Python 3",
   "language": "python",
   "name": "python3"
  },
  "language_info": {
   "codemirror_mode": {
    "name": "ipython",
    "version": 3
   },
   "file_extension": ".py",
   "mimetype": "text/x-python",
   "name": "python",
   "nbconvert_exporter": "python",
   "pygments_lexer": "ipython3",
   "version": "3.6.1"
  }
 },
 "nbformat": 4,
 "nbformat_minor": 2
}
